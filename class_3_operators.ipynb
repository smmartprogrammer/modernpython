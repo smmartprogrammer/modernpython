{
 "cells": [
  {
   "cell_type": "code",
   "execution_count": null,
   "metadata": {},
   "outputs": [],
   "source": []
  },
  {
   "cell_type": "markdown",
   "metadata": {},
   "source": [
    "#   Python divides the operators in the following groups:\n",
    "\n",
    "Arithmetic operators\n",
    "Assignment operators\n",
    "Comparison operators\n",
    "Logical operators\n",
    "Identity operators\n",
    "Membership operators\n",
    "Bitwise operators\n"
   ]
  },
  {
   "cell_type": "code",
   "execution_count": 3,
   "metadata": {},
   "outputs": [
    {
     "data": {
      "text/html": [
       "<div>\n",
       "<style scoped>\n",
       "    .dataframe tbody tr th:only-of-type {\n",
       "        vertical-align: middle;\n",
       "    }\n",
       "\n",
       "    .dataframe tbody tr th {\n",
       "        vertical-align: top;\n",
       "    }\n",
       "\n",
       "    .dataframe thead th {\n",
       "        text-align: right;\n",
       "    }\n",
       "</style>\n",
       "<table border=\"1\" class=\"dataframe\">\n",
       "  <thead>\n",
       "    <tr style=\"text-align: right;\">\n",
       "      <th></th>\n",
       "      <th>Operator</th>\n",
       "      <th>Name</th>\n",
       "      <th>Example</th>\n",
       "      <th>Try it</th>\n",
       "    </tr>\n",
       "  </thead>\n",
       "  <tbody>\n",
       "    <tr>\n",
       "      <th>0</th>\n",
       "      <td>+</td>\n",
       "      <td>Addition</td>\n",
       "      <td>x + y</td>\n",
       "      <td>Try it »</td>\n",
       "    </tr>\n",
       "    <tr>\n",
       "      <th>1</th>\n",
       "      <td>-</td>\n",
       "      <td>Subtraction</td>\n",
       "      <td>x - y</td>\n",
       "      <td>Try it »</td>\n",
       "    </tr>\n",
       "    <tr>\n",
       "      <th>2</th>\n",
       "      <td>*</td>\n",
       "      <td>Multiplication</td>\n",
       "      <td>x * y</td>\n",
       "      <td>Try it »</td>\n",
       "    </tr>\n",
       "    <tr>\n",
       "      <th>3</th>\n",
       "      <td>/</td>\n",
       "      <td>Division</td>\n",
       "      <td>x / y</td>\n",
       "      <td>Try it »</td>\n",
       "    </tr>\n",
       "    <tr>\n",
       "      <th>4</th>\n",
       "      <td>%</td>\n",
       "      <td>Modulus</td>\n",
       "      <td>x % y</td>\n",
       "      <td>Try it »</td>\n",
       "    </tr>\n",
       "    <tr>\n",
       "      <th>5</th>\n",
       "      <td>**</td>\n",
       "      <td>Exponentiation</td>\n",
       "      <td>x ** y</td>\n",
       "      <td>Try it »</td>\n",
       "    </tr>\n",
       "    <tr>\n",
       "      <th>6</th>\n",
       "      <td>//</td>\n",
       "      <td>Floor division</td>\n",
       "      <td>x // y</td>\n",
       "      <td>Try it »</td>\n",
       "    </tr>\n",
       "  </tbody>\n",
       "</table>\n",
       "</div>"
      ],
      "text/plain": [
       "  Operator            Name Example    Try it\n",
       "0        +        Addition   x + y  Try it »\n",
       "1        -     Subtraction   x - y  Try it »\n",
       "2        *  Multiplication   x * y  Try it »\n",
       "3        /        Division   x / y  Try it »\n",
       "4        %         Modulus   x % y  Try it »\n",
       "5       **  Exponentiation  x ** y  Try it »\n",
       "6       //  Floor division  x // y  Try it »"
      ]
     },
     "execution_count": 3,
     "metadata": {},
     "output_type": "execute_result"
    }
   ],
   "source": [
    "import pandas as pd\n",
    "\n",
    "table = pd.read_html('https://www.w3schools.com/python/python_operators.asp')\n",
    "table[0]\n"
   ]
  },
  {
   "cell_type": "code",
   "execution_count": 2,
   "metadata": {},
   "outputs": [
    {
     "name": "stdout",
     "output_type": "stream",
     "text": [
      "Collecting lxml\n",
      "  Obtaining dependency information for lxml from https://files.pythonhosted.org/packages/77/e5/1f23e56678244258483521872507d64130cac9466902aca3f3141b8fb06b/lxml-4.9.3-cp312-cp312-win_amd64.whl.metadata\n",
      "  Downloading lxml-4.9.3-cp312-cp312-win_amd64.whl.metadata (3.9 kB)\n",
      "Downloading lxml-4.9.3-cp312-cp312-win_amd64.whl (3.8 MB)\n",
      "   ---------------------------------------- 0.0/3.8 MB ? eta -:--:--\n",
      "   ---------------------------------------- 0.0/3.8 MB ? eta -:--:--\n",
      "   ---------------------------------------- 0.0/3.8 MB 325.1 kB/s eta 0:00:12\n",
      "    --------------------------------------- 0.1/3.8 MB 465.5 kB/s eta 0:00:08\n",
      "   -- ------------------------------------- 0.2/3.8 MB 1.2 MB/s eta 0:00:04\n",
      "   ----- ---------------------------------- 0.5/3.8 MB 2.2 MB/s eta 0:00:02\n",
      "   ------ --------------------------------- 0.6/3.8 MB 2.6 MB/s eta 0:00:02\n",
      "   ------ --------------------------------- 0.6/3.8 MB 2.6 MB/s eta 0:00:02\n",
      "   ------ --------------------------------- 0.7/3.8 MB 1.9 MB/s eta 0:00:02\n",
      "   ------ --------------------------------- 0.7/3.8 MB 1.9 MB/s eta 0:00:02\n",
      "   ------- -------------------------------- 0.7/3.8 MB 1.6 MB/s eta 0:00:02\n",
      "   ------------- -------------------------- 1.2/3.8 MB 2.5 MB/s eta 0:00:02\n",
      "   ------------- -------------------------- 1.3/3.8 MB 2.5 MB/s eta 0:00:02\n",
      "   ------------- -------------------------- 1.3/3.8 MB 2.5 MB/s eta 0:00:02\n",
      "   ---------------- ----------------------- 1.6/3.8 MB 2.5 MB/s eta 0:00:01\n",
      "   ----------------- ---------------------- 1.7/3.8 MB 2.5 MB/s eta 0:00:01\n",
      "   ------------------ --------------------- 1.8/3.8 MB 2.5 MB/s eta 0:00:01\n",
      "   ------------------ --------------------- 1.8/3.8 MB 2.5 MB/s eta 0:00:01\n",
      "   ------------------ --------------------- 1.8/3.8 MB 2.2 MB/s eta 0:00:01\n",
      "   -------------------- ------------------- 2.0/3.8 MB 2.3 MB/s eta 0:00:01\n",
      "   --------------------- ------------------ 2.0/3.8 MB 2.2 MB/s eta 0:00:01\n",
      "   ---------------------- ----------------- 2.1/3.8 MB 2.2 MB/s eta 0:00:01\n",
      "   ---------------------- ----------------- 2.1/3.8 MB 2.1 MB/s eta 0:00:01\n",
      "   ----------------------- ---------------- 2.2/3.8 MB 2.1 MB/s eta 0:00:01\n",
      "   ----------------------- ---------------- 2.2/3.8 MB 2.1 MB/s eta 0:00:01\n",
      "   ------------------------ --------------- 2.3/3.8 MB 2.0 MB/s eta 0:00:01\n",
      "   ------------------------- -------------- 2.4/3.8 MB 2.0 MB/s eta 0:00:01\n",
      "   -------------------------- ------------- 2.5/3.8 MB 2.0 MB/s eta 0:00:01\n",
      "   -------------------------- ------------- 2.5/3.8 MB 1.9 MB/s eta 0:00:01\n",
      "   --------------------------- ------------ 2.6/3.8 MB 1.9 MB/s eta 0:00:01\n",
      "   --------------------------- ------------ 2.6/3.8 MB 1.9 MB/s eta 0:00:01\n",
      "   ---------------------------- ----------- 2.7/3.8 MB 1.9 MB/s eta 0:00:01\n",
      "   ----------------------------- ---------- 2.7/3.8 MB 1.9 MB/s eta 0:00:01\n",
      "   ----------------------------- ---------- 2.8/3.8 MB 1.8 MB/s eta 0:00:01\n",
      "   ------------------------------ --------- 2.9/3.8 MB 1.8 MB/s eta 0:00:01\n",
      "   ------------------------------- -------- 2.9/3.8 MB 1.8 MB/s eta 0:00:01\n",
      "   ------------------------------- -------- 3.0/3.8 MB 1.8 MB/s eta 0:00:01\n",
      "   -------------------------------- ------- 3.0/3.8 MB 1.8 MB/s eta 0:00:01\n",
      "   -------------------------------- ------- 3.1/3.8 MB 1.8 MB/s eta 0:00:01\n",
      "   --------------------------------- ------ 3.2/3.8 MB 1.7 MB/s eta 0:00:01\n",
      "   ---------------------------------- ----- 3.3/3.8 MB 1.8 MB/s eta 0:00:01\n",
      "   ------------------------------------ --- 3.4/3.8 MB 1.8 MB/s eta 0:00:01\n",
      "   ------------------------------------- -- 3.5/3.8 MB 1.8 MB/s eta 0:00:01\n",
      "   -------------------------------------- - 3.6/3.8 MB 1.8 MB/s eta 0:00:01\n",
      "   ---------------------------------------  3.7/3.8 MB 1.8 MB/s eta 0:00:01\n",
      "   ---------------------------------------- 3.8/3.8 MB 1.8 MB/s eta 0:00:00\n",
      "Installing collected packages: lxml\n",
      "Successfully installed lxml-4.9.3\n"
     ]
    }
   ],
   "source": [
    "# !pip install lxml\n"
   ]
  },
  {
   "cell_type": "code",
   "execution_count": 4,
   "metadata": {},
   "outputs": [
    {
     "name": "stdout",
     "output_type": "stream",
     "text": [
      "2\n"
     ]
    }
   ],
   "source": [
    "a : int = 11\n",
    "b : int = 3\n",
    "print(a%b)"
   ]
  },
  {
   "cell_type": "code",
   "execution_count": 5,
   "metadata": {},
   "outputs": [
    {
     "name": "stdout",
     "output_type": "stream",
     "text": [
      "4\n",
      "8\n"
     ]
    }
   ],
   "source": [
    "print(2**2)\n",
    "print(2**3)"
   ]
  },
  {
   "cell_type": "code",
   "execution_count": 6,
   "metadata": {},
   "outputs": [
    {
     "name": "stdout",
     "output_type": "stream",
     "text": [
      "1.0833333333333333\n"
     ]
    }
   ],
   "source": [
    "print (13/12)"
   ]
  },
  {
   "cell_type": "code",
   "execution_count": 7,
   "metadata": {},
   "outputs": [
    {
     "name": "stdout",
     "output_type": "stream",
     "text": [
      "1\n"
     ]
    }
   ],
   "source": [
    "# floor division -- it does not round it to nearest or maximum one, but to the lowest one \n",
    "print(13//12)"
   ]
  }
 ],
 "metadata": {
  "kernelspec": {
   "display_name": "raghunathji12",
   "language": "python",
   "name": "python3"
  },
  "language_info": {
   "codemirror_mode": {
    "name": "ipython",
    "version": 3
   },
   "file_extension": ".py",
   "mimetype": "text/x-python",
   "name": "python",
   "nbconvert_exporter": "python",
   "pygments_lexer": "ipython3",
   "version": "3.12.0"
  }
 },
 "nbformat": 4,
 "nbformat_minor": 2
}
