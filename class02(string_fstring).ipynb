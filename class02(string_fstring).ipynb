{
 "cells": [
  {
   "cell_type": "code",
   "execution_count": 1,
   "metadata": {},
   "outputs": [
    {
     "name": "stdout",
     "output_type": "stream",
     "text": [
      "Partab Raj\n",
      "Laljee Chagan\n"
     ]
    }
   ],
   "source": [
    "# senior developers writing code style:\n",
    "name: str = \"Partab Raj\"\n",
    "father_name: str = \"Laljee Chagan\"\n",
    "print(name)\n",
    "print(father_name)\n"
   ]
  },
  {
   "cell_type": "code",
   "execution_count": 4,
   "metadata": {},
   "outputs": [
    {
     "name": "stdout",
     "output_type": "stream",
     "text": [
      "name\n"
     ]
    }
   ],
   "source": [
    "print(\"name\")"
   ]
  },
  {
   "cell_type": "code",
   "execution_count": 5,
   "metadata": {},
   "outputs": [
    {
     "name": "stdout",
     "output_type": "stream",
     "text": [
      "Partab Raj\n"
     ]
    }
   ],
   "source": [
    "print(name)"
   ]
  },
  {
   "cell_type": "markdown",
   "metadata": {},
   "source": [
    "# string data type in python"
   ]
  },
  {
   "cell_type": "code",
   "execution_count": 11,
   "metadata": {},
   "outputs": [
    {
     "name": "stdout",
     "output_type": "stream",
     "text": [
      "<class 'str'>\n",
      "Raghunathji\n"
     ]
    }
   ],
   "source": [
    "#bboundries\n",
    "#'string data', \"string data\",'''string data''', \"\"\"\"string data\"\"\"\"\n",
    "#'string data' type script\n",
    "\n",
    "name: str = \"Raghunathji\"\n",
    "print(type(name))\n",
    "print(name)"
   ]
  },
  {
   "cell_type": "code",
   "execution_count": 12,
   "metadata": {},
   "outputs": [
    {
     "name": "stdout",
     "output_type": "stream",
     "text": [
      "<class 'str'>\n",
      "Raghunathji\n"
     ]
    }
   ],
   "source": [
    "#bboundries\n",
    "#'string data', \"string data\",'''string data''', \"\"\"\"string data\"\"\"\"\n",
    "#'string data' type script\n",
    "\n",
    "name: str = 'Raghunathji'\n",
    "print(type(name))\n",
    "\n",
    "print(name)"
   ]
  },
  {
   "cell_type": "code",
   "execution_count": 13,
   "metadata": {},
   "outputs": [
    {
     "name": "stdout",
     "output_type": "stream",
     "text": [
      "<class 'str'>\n",
      "Raghunathji\n"
     ]
    }
   ],
   "source": [
    "#bboundries\n",
    "#'string data', \"string data\",'''string data''', \"\"\"\"string data\"\"\"\"\n",
    "#'string data' type script\n",
    "\n",
    "name: str = '''Raghunathji'''\n",
    "print(type(name))\n",
    "\n",
    "print(name)"
   ]
  },
  {
   "cell_type": "code",
   "execution_count": 18,
   "metadata": {},
   "outputs": [
    {
     "name": "stdout",
     "output_type": "stream",
     "text": [
      "PIAIC STUDENT card \n",
      " father's Name\n"
     ]
    }
   ],
   "source": [
    "message : str = \"PIAIC STUDENT card \\n father's Name\"\n",
    "print(message)"
   ]
  },
  {
   "cell_type": "code",
   "execution_count": 19,
   "metadata": {},
   "outputs": [
    {
     "name": "stdout",
     "output_type": "stream",
     "text": [
      "PIAIC \"STUDENT CARD\" \n",
      " father Name\n"
     ]
    }
   ],
   "source": [
    "message : str = 'PIAIC \"STUDENT CARD\" \\n father Name'\n",
    "print(message)"
   ]
  },
  {
   "cell_type": "code",
   "execution_count": 20,
   "metadata": {},
   "outputs": [
    {
     "name": "stdout",
     "output_type": "stream",
     "text": [
      "PIAIC Student Card \n",
      " father's name\n"
     ]
    }
   ],
   "source": [
    "# CONVERT ANY SPECIAL CHARACTER INTO SIMPLE CHARACTER, PLACE \\ BEFORE CHARACTER\n",
    "message : str = 'PIAIC Student Card \\n father\\'s name'\n",
    "print(message)"
   ]
  },
  {
   "cell_type": "code",
   "execution_count": 23,
   "metadata": {},
   "outputs": [
    {
     "data": {
      "text/plain": [
       "'ab99'"
      ]
     },
     "execution_count": 23,
     "metadata": {},
     "output_type": "execute_result"
    }
   ],
   "source": [
    "#plus sign concatenated two strings into one\n",
    "\"a\"+\"b\" + str(99)\n"
   ]
  },
  {
   "cell_type": "code",
   "execution_count": 28,
   "metadata": {},
   "outputs": [
    {
     "name": "stdout",
     "output_type": "stream",
     "text": [
      "PIAIC Student Card\n",
      "Student name:Partab Raj\n",
      "Age:38\n",
      "Education :EMBA Finance\n"
     ]
    }
   ],
   "source": [
    "name: str = \"Partab Raj\"\n",
    "fname: str = \"Laljee Chaggan\"\n",
    "education: str = \"EMBA Finance\"\n",
    "Age: int = 38\n",
    "\n",
    "card : str = \"PIAIC Student Card\\nStudent name:\" +name + \"\\nAge:\"+ str(Age)+ \"\\n\" +\\\n",
    "\"Education :\" +education \n",
    "print(card)"
   ]
  },
  {
   "cell_type": "code",
   "execution_count": 25,
   "metadata": {},
   "outputs": [
    {
     "name": "stdout",
     "output_type": "stream",
     "text": [
      "24\n"
     ]
    }
   ],
   "source": [
    "print(7+8+9)"
   ]
  },
  {
   "cell_type": "code",
   "execution_count": 26,
   "metadata": {},
   "outputs": [
    {
     "name": "stdout",
     "output_type": "stream",
     "text": [
      "10\n"
     ]
    }
   ],
   "source": [
    "print(7 + \\\n",
    "        +  \\\n",
    "            3)"
   ]
  },
  {
   "cell_type": "markdown",
   "metadata": {},
   "source": [
    "## Define multiline string \"\"\" \"\"\", ''' '''     "
   ]
  },
  {
   "cell_type": "code",
   "execution_count": 29,
   "metadata": {},
   "outputs": [
    {
     "name": "stdout",
     "output_type": "stream",
     "text": [
      "\n",
      "PIAIC Student Card\n",
      "Student name:\n",
      "Father's Name:\n",
      "Age: ......\n",
      "Education: ....\n",
      "\n",
      "\n"
     ]
    }
   ],
   "source": [
    "card : str = \"\"\"\n",
    "PIAIC Student Card\n",
    "Student name:\n",
    "Father's Name:\n",
    "Age: ......\n",
    "Education: ....\n",
    "\n",
    "\"\"\"\n",
    "print(card)"
   ]
  },
  {
   "cell_type": "markdown",
   "metadata": {},
   "source": [
    "## fstring python"
   ]
  },
  {
   "cell_type": "code",
   "execution_count": 30,
   "metadata": {},
   "outputs": [
    {
     "name": "stdout",
     "output_type": "stream",
     "text": [
      "\n",
      "PIAIC Student Card\n",
      "Student name: Partab Raj\n",
      "Father's Name: Laljee Chaggan\n",
      "Age: 38 \n",
      "Education: EMBA Finance\n",
      "\n",
      "\n"
     ]
    }
   ],
   "source": [
    "name: str = \"Partab Raj\"\n",
    "fname: str = \"Laljee Chaggan\"\n",
    "education: str = \"EMBA Finance\"\n",
    "Age: int = 38\n",
    "\n",
    "card : str = f\"\"\"\n",
    "PIAIC Student Card\n",
    "Student name: {name}\n",
    "Father's Name: {fname}\n",
    "Age: {Age} \n",
    "Education: {education}\n",
    "\n",
    "\"\"\"\n",
    "print(card)\n"
   ]
  },
  {
   "cell_type": "code",
   "execution_count": 33,
   "metadata": {},
   "outputs": [
    {
     "name": "stdout",
     "output_type": "stream",
     "text": [
      "s\n",
      "PIAIC Student Card\n",
      "Student name: Partab Raj\n",
      "Father's Name: Laljee Chaggan\n",
      "Age: 38 \n",
      "Education: EMBA Finance\n",
      "totat 14\n",
      "\n"
     ]
    }
   ],
   "source": [
    "name: str = \"Partab Raj\"\n",
    "fname: str = \"Laljee Chaggan\"\n",
    "education: str = \"EMBA Finance\"\n",
    "Age: int = 38\n",
    "\n",
    "card : str = f'''s\n",
    "PIAIC Student Card\n",
    "Student name: {name}\n",
    "Father's Name: {fname}\n",
    "Age: {Age} \n",
    "Education: {education}\n",
    "total { 1+2+5+6}\n",
    "'''\n",
    "print(card)\n"
   ]
  },
  {
   "cell_type": "markdown",
   "metadata": {},
   "source": [
    "## f-string and jinja style"
   ]
  },
  {
   "cell_type": "code",
   "execution_count": 34,
   "metadata": {},
   "outputs": [
    {
     "data": {
      "text/plain": [
       "'\\nstudent name    : Partab Raj\\n'"
      ]
     },
     "execution_count": 34,
     "metadata": {},
     "output_type": "execute_result"
    }
   ],
   "source": [
    "#fstring style\n",
    "f\"\"\"\n",
    "student name    : {name}\n",
    "\"\"\""
   ]
  },
  {
   "cell_type": "code",
   "execution_count": 36,
   "metadata": {},
   "outputs": [
    {
     "data": {
      "text/plain": [
       "'\\nstudent name    : {name}\\n'"
      ]
     },
     "execution_count": 36,
     "metadata": {},
     "output_type": "execute_result"
    }
   ],
   "source": [
    "#jinja style\n",
    "f\"\"\"\n",
    "student name    : {{name}}\n",
    "\"\"\""
   ]
  },
  {
   "cell_type": "code",
   "execution_count": 37,
   "metadata": {},
   "outputs": [
    {
     "name": "stdout",
     "output_type": "stream",
     "text": [
      "s\n",
      "PIAIC Student Card\n",
      "Student name: Partab Raj\n",
      "Father's Name: Laljee Chaggan\n",
      "Age: 38\n",
      "Education: EMBA Finance\n",
      "\n",
      "\n"
     ]
    }
   ],
   "source": [
    "name: str = \"Partab Raj\"\n",
    "fname: str = \"Laljee Chaggan\"\n",
    "education: str = \"EMBA Finance\"\n",
    "Age: int = 38\n",
    "\n",
    "card : str = f'''s\n",
    "PIAIC Student Card\n",
    "Student name: %s\n",
    "Father's Name: %s\n",
    "Age: %d\n",
    "Education: %s\n",
    "\n",
    "''' % (name, fname, Age, education)\n",
    "print(card)\n"
   ]
  },
  {
   "cell_type": "code",
   "execution_count": 38,
   "metadata": {},
   "outputs": [
    {
     "data": {
      "text/plain": [
       "['__add__',\n",
       " '__class__',\n",
       " '__contains__',\n",
       " '__delattr__',\n",
       " '__dir__',\n",
       " '__doc__',\n",
       " '__eq__',\n",
       " '__format__',\n",
       " '__ge__',\n",
       " '__getattribute__',\n",
       " '__getitem__',\n",
       " '__getnewargs__',\n",
       " '__getstate__',\n",
       " '__gt__',\n",
       " '__hash__',\n",
       " '__init__',\n",
       " '__init_subclass__',\n",
       " '__iter__',\n",
       " '__le__',\n",
       " '__len__',\n",
       " '__lt__',\n",
       " '__mod__',\n",
       " '__mul__',\n",
       " '__ne__',\n",
       " '__new__',\n",
       " '__reduce__',\n",
       " '__reduce_ex__',\n",
       " '__repr__',\n",
       " '__rmod__',\n",
       " '__rmul__',\n",
       " '__setattr__',\n",
       " '__sizeof__',\n",
       " '__str__',\n",
       " '__subclasshook__',\n",
       " 'capitalize',\n",
       " 'casefold',\n",
       " 'center',\n",
       " 'count',\n",
       " 'encode',\n",
       " 'endswith',\n",
       " 'expandtabs',\n",
       " 'find',\n",
       " 'format',\n",
       " 'format_map',\n",
       " 'index',\n",
       " 'isalnum',\n",
       " 'isalpha',\n",
       " 'isascii',\n",
       " 'isdecimal',\n",
       " 'isdigit',\n",
       " 'isidentifier',\n",
       " 'islower',\n",
       " 'isnumeric',\n",
       " 'isprintable',\n",
       " 'isspace',\n",
       " 'istitle',\n",
       " 'isupper',\n",
       " 'join',\n",
       " 'ljust',\n",
       " 'lower',\n",
       " 'lstrip',\n",
       " 'maketrans',\n",
       " 'partition',\n",
       " 'removeprefix',\n",
       " 'removesuffix',\n",
       " 'replace',\n",
       " 'rfind',\n",
       " 'rindex',\n",
       " 'rjust',\n",
       " 'rpartition',\n",
       " 'rsplit',\n",
       " 'rstrip',\n",
       " 'split',\n",
       " 'splitlines',\n",
       " 'startswith',\n",
       " 'strip',\n",
       " 'swapcase',\n",
       " 'title',\n",
       " 'translate',\n",
       " 'upper',\n",
       " 'zfill']"
      ]
     },
     "execution_count": 38,
     "metadata": {},
     "output_type": "execute_result"
    }
   ],
   "source": [
    "dir(str)"
   ]
  },
  {
   "cell_type": "code",
   "execution_count": 39,
   "metadata": {},
   "outputs": [
    {
     "data": {
      "text/plain": [
       "['capitalize',\n",
       " 'casefold',\n",
       " 'center',\n",
       " 'count',\n",
       " 'encode',\n",
       " 'endswith',\n",
       " 'expandtabs',\n",
       " 'find',\n",
       " 'format',\n",
       " 'format_map',\n",
       " 'index',\n",
       " 'isalnum',\n",
       " 'isalpha',\n",
       " 'isascii',\n",
       " 'isdecimal',\n",
       " 'isdigit',\n",
       " 'isidentifier',\n",
       " 'islower',\n",
       " 'isnumeric',\n",
       " 'isprintable',\n",
       " 'isspace',\n",
       " 'istitle',\n",
       " 'isupper',\n",
       " 'join',\n",
       " 'ljust',\n",
       " 'lower',\n",
       " 'lstrip',\n",
       " 'maketrans',\n",
       " 'partition',\n",
       " 'removeprefix',\n",
       " 'removesuffix',\n",
       " 'replace',\n",
       " 'rfind',\n",
       " 'rindex',\n",
       " 'rjust',\n",
       " 'rpartition',\n",
       " 'rsplit',\n",
       " 'rstrip',\n",
       " 'split',\n",
       " 'splitlines',\n",
       " 'startswith',\n",
       " 'strip',\n",
       " 'swapcase',\n",
       " 'title',\n",
       " 'translate',\n",
       " 'upper',\n",
       " 'zfill']"
      ]
     },
     "execution_count": 39,
     "metadata": {},
     "output_type": "execute_result"
    }
   ],
   "source": [
    "[i for i in dir(str) if \"__\" not in i ]"
   ]
  },
  {
   "cell_type": "code",
   "execution_count": 43,
   "metadata": {},
   "outputs": [
    {
     "name": "stdout",
     "output_type": "stream",
     "text": [
      "Partab raj parmar\n",
      "partab raj parmar\n",
      "PARTAB RAJ PARMAR\n"
     ]
    }
   ],
   "source": [
    "name : str = \"PArtaB Raj ParMAR\"\n",
    "print(name.capitalize())\n",
    "print(name.lower())\n",
    "print(name.upper())\n"
   ]
  },
  {
   "cell_type": "code",
   "execution_count": 45,
   "metadata": {},
   "outputs": [
    {
     "data": {
      "text/plain": [
       "'pakistan value a = 7 and value b = 8'"
      ]
     },
     "execution_count": 45,
     "metadata": {},
     "output_type": "execute_result"
    }
   ],
   "source": [
    "a = 7 \n",
    "b = 8\n",
    "# { placeholder}     0                 1\n",
    "\"pakistan value a = {} and value b = {}\".format(a, b) "
   ]
  },
  {
   "cell_type": "code",
   "execution_count": 48,
   "metadata": {},
   "outputs": [
    {
     "name": "stdout",
     "output_type": "stream",
     "text": [
      "\n",
      "PIAIC Student Card\n",
      "Student name    : Laljee Chaggan\n",
      "Father's Name   : Partab Raj\n",
      "Age             : 38\n",
      "Education       : EMBA Finance\n",
      "\n",
      "\n"
     ]
    }
   ],
   "source": [
    "name: str = \"Partab Raj\"\n",
    "fname: str = \"Laljee Chaggan\"\n",
    "education: str = \"EMBA Finance\"\n",
    "Age: int = 38\n",
    "\n",
    "card : str = \"\"\"\n",
    "PIAIC Student Card\n",
    "Student name    : {}\n",
    "Father's Name   : {}\n",
    "Age             : {}\n",
    "Education       : {}\n",
    "\n",
    "\"\"\".format(fname, name, Age, education)\n",
    "print(card)\n"
   ]
  },
  {
   "cell_type": "code",
   "execution_count": 49,
   "metadata": {},
   "outputs": [
    {
     "name": "stdout",
     "output_type": "stream",
     "text": [
      "\n",
      "PIAIC Student Card\n",
      "Student name    : Laljee Chaggan\n",
      "Father's Name   : Partab Raj\n",
      "Age             : 38\n",
      "Education       : EMBA Finance\n",
      "\n",
      "\n"
     ]
    }
   ],
   "source": [
    "name: str = \"Partab Raj\"\n",
    "fname: str = \"Laljee Chaggan\"\n",
    "education: str = \"EMBA Finance\"\n",
    "Age: int = 38\n",
    "\n",
    "card : str = \"\"\"\n",
    "PIAIC Student Card\n",
    "Student name    : {0}\n",
    "Father's Name   : {1}\n",
    "Age             : {3}\n",
    "Education       : {2}\n",
    "\n",
    "\"\"\".format(fname, name, education, Age)\n",
    "print(card)\n"
   ]
  },
  {
   "cell_type": "code",
   "execution_count": 51,
   "metadata": {},
   "outputs": [
    {
     "name": "stdout",
     "output_type": "stream",
     "text": [
      "\n",
      "PIAIC Student Card\n",
      "Student name    : Partab Raj\n",
      "Father's Name   : Laljee Chaggan\n",
      "Age             : 38\n",
      "Education       : EMBA Finance\n",
      "\n",
      "\n"
     ]
    }
   ],
   "source": [
    "name: str = \"Partab Raj\"\n",
    "fname: str = \"Laljee Chaggan\"\n",
    "education: str = \"EMBA Finance\"\n",
    "Age: int = 38\n",
    "\n",
    "card : str = \"\"\"\n",
    "PIAIC Student Card\n",
    "Student name    : {a}\n",
    "Father's Name   : {b}\n",
    "Age             : {d}\n",
    "Education       : {c}\n",
    "\n",
    "\"\"\".format(b=fname, a=name, c=education,d= Age)\n",
    "print(card)\n"
   ]
  },
  {
   "cell_type": "markdown",
   "metadata": {},
   "source": [
    "## recommended below two f-string methods"
   ]
  },
  {
   "cell_type": "code",
   "execution_count": null,
   "metadata": {},
   "outputs": [],
   "source": [
    "name: str = \"Partab Raj\"\n",
    "fname: str = \"Laljee Chaggan\"\n",
    "education: str = \"EMBA Finance\"\n",
    "Age: int = 38\n",
    "\n",
    "card : str = f\"\"\"\n",
    "PIAIC Student Card\n",
    "Student name: {name}\n",
    "Father's Name: {fname}\n",
    "Age: {Age} \n",
    "Education: {education}\n",
    "\n",
    "\"\"\"\n",
    "print(card)\n"
   ]
  },
  {
   "cell_type": "code",
   "execution_count": 52,
   "metadata": {},
   "outputs": [
    {
     "name": "stdout",
     "output_type": "stream",
     "text": [
      "My name is Partab Raj\n",
      "18\n"
     ]
    }
   ],
   "source": [
    "student_code : str = \"\"\"\n",
    "print(\"My name is Partab Raj\")\n",
    "a:int = 8\n",
    "b:int = 10\n",
    "print(a+b )\"\"\"\n",
    "exec(student_code)"
   ]
  },
  {
   "cell_type": "markdown",
   "metadata": {},
   "source": [
    "## explore string methods and attributes\n",
    "\n",
    "pre-define global function we have used \n",
    "\n",
    "*print\n",
    "*type\n",
    "*id\n",
    "*dir\n",
    "*len\n"
   ]
  },
  {
   "cell_type": "code",
   "execution_count": 55,
   "metadata": {},
   "outputs": [
    {
     "name": "stdout",
     "output_type": "stream",
     "text": [
      "['capitalize', 'casefold', 'center', 'count', 'encode', 'endswith', 'expandtabs', 'find', 'format', 'format_map', 'index', 'isalnum', 'isalpha', 'isascii', 'isdecimal', 'isdigit', 'isidentifier', 'islower', 'isnumeric', 'isprintable', 'isspace', 'istitle', 'isupper', 'join', 'ljust', 'lower', 'lstrip', 'maketrans', 'partition', 'removeprefix', 'removesuffix', 'replace', 'rfind', 'rindex', 'rjust', 'rpartition', 'rsplit', 'rstrip', 'split', 'splitlines', 'startswith', 'strip', 'swapcase', 'title', 'translate', 'upper', 'zfill']\n",
      "47\n"
     ]
    }
   ],
   "source": [
    "a: list[str] = [i for i in dir(str) if \"__\" not in i]\n",
    "print(a)\n",
    "print(len(a))"
   ]
  },
  {
   "cell_type": "code",
   "execution_count": 68,
   "metadata": {},
   "outputs": [
    {
     "data": {
      "text/plain": [
       "'           partab raj parmar         '"
      ]
     },
     "metadata": {},
     "output_type": "display_data"
    },
    {
     "data": {
      "text/plain": [
       "'           partab raj parmar         '"
      ]
     },
     "metadata": {},
     "output_type": "display_data"
    },
    {
     "data": {
      "text/plain": [
       "'           PARTAB RAJ PARMAR         '"
      ]
     },
     "metadata": {},
     "output_type": "display_data"
    },
    {
     "data": {
      "text/plain": [
       "'pArtaB raj parMAR         '"
      ]
     },
     "metadata": {},
     "output_type": "display_data"
    },
    {
     "data": {
      "text/plain": [
       "['pArtaB', 'raj', 'parMAR']"
      ]
     },
     "metadata": {},
     "output_type": "display_data"
    },
    {
     "data": {
      "text/plain": [
       "['pArtaB', 'raj', 'parMAR']"
      ]
     },
     "metadata": {},
     "output_type": "display_data"
    },
    {
     "data": {
      "text/plain": [
       "'           Partab Raj Parmar         '"
      ]
     },
     "metadata": {},
     "output_type": "display_data"
    }
   ],
   "source": [
    "name : str = \"           pArtaB raj parMAR         \"\n",
    "display(name.capitalize())\n",
    "display(name.lower())\n",
    "display(name.upper())\n",
    "display(name.lstrip())\n",
    "display(name.rsplit())\n",
    "display(name.split())\n",
    "display(name.title())\n",
    "\n"
   ]
  },
  {
   "cell_type": "code",
   "execution_count": 66,
   "metadata": {},
   "outputs": [
    {
     "data": {
      "text/plain": [
       "'       Partab         Raj           '"
      ]
     },
     "metadata": {},
     "output_type": "display_data"
    },
    {
     "name": "stdout",
     "output_type": "stream",
     "text": [
      "Partab Raj\n"
     ]
    }
   ],
   "source": [
    "import re\n",
    "name : str = \"       Partab         Raj           \"\n",
    "display(name)\n",
    "\n",
    "name1      : str = re.sub(' {2,100}', ' ', name).strip()\n",
    "print(name1)"
   ]
  },
  {
   "cell_type": "code",
   "execution_count": null,
   "metadata": {},
   "outputs": [],
   "source": [
    "#\\n for new line \n",
    "# \\t   for extra tab \n",
    "#\\b for  \n"
   ]
  },
  {
   "cell_type": "code",
   "execution_count": 70,
   "metadata": {},
   "outputs": [
    {
     "name": "stdout",
     "output_type": "stream",
     "text": [
      "Name:\n",
      " Partab Raj\n",
      "Name:\t Partab Raj\n",
      "Name Partab Raj\n"
     ]
    }
   ],
   "source": [
    "print(\"Name:\\n Partab Raj\")\n",
    "print(\"Name:\\t Partab Raj\")\n",
    "print(\"Name:\\n Partab Raj\")"
   ]
  },
  {
   "cell_type": "code",
   "execution_count": 73,
   "metadata": {},
   "outputs": [
    {
     "name": "stdout",
     "output_type": "stream",
     "text": [
      "nostarch.com\n",
      "http://nostarch\n"
     ]
    }
   ],
   "source": [
    "nostarch_url:str = 'http://nostarch.com'\n",
    "a = nostarch_url.removeprefix('http://')\n",
    "b = nostarch_url.removesuffix('.com')\n",
    "print(a)\n",
    "'print(b)"
   ]
  },
  {
   "cell_type": "code",
   "execution_count": 74,
   "metadata": {},
   "outputs": [
    {
     "ename": "SyntaxError",
     "evalue": "invalid decimal literal (3116605637.py, line 1)",
     "output_type": "error",
     "traceback": [
      "\u001b[1;36m  Cell \u001b[1;32mIn[74], line 1\u001b[1;36m\u001b[0m\n\u001b[1;33m    1name = str = \"partab\"\u001b[0m\n\u001b[1;37m    ^\u001b[0m\n\u001b[1;31mSyntaxError\u001b[0m\u001b[1;31m:\u001b[0m invalid decimal literal\n"
     ]
    }
   ],
   "source": [
    "1name = str = \"partab\"\n",
    "print(1name)"
   ]
  },
  {
   "cell_type": "code",
   "execution_count": 75,
   "metadata": {},
   "outputs": [
    {
     "name": "stdout",
     "output_type": "stream",
     "text": [
      "Partab Raj\n"
     ]
    }
   ],
   "source": [
    "names1 = str = \"Partab Raj\"\n",
    "print(names1)\n"
   ]
  },
  {
   "cell_type": "code",
   "execution_count": 76,
   "metadata": {},
   "outputs": [
    {
     "name": "stdout",
     "output_type": "stream",
     "text": [
      "partab\n"
     ]
    }
   ],
   "source": [
    "_1name = str = \"partab\"\n",
    "print(_1name)"
   ]
  }
 ],
 "metadata": {
  "kernelspec": {
   "display_name": "python12",
   "language": "python",
   "name": "python3"
  },
  "language_info": {
   "codemirror_mode": {
    "name": "ipython",
    "version": 3
   },
   "file_extension": ".py",
   "mimetype": "text/x-python",
   "name": "python",
   "nbconvert_exporter": "python",
   "pygments_lexer": "ipython3",
   "version": "3.12.0"
  }
 },
 "nbformat": 4,
 "nbformat_minor": 2
}
