{
 "cells": [
  {
   "cell_type": "markdown",
   "metadata": {},
   "source": [
    "Raghunathji - Modern Python Class 01"
   ]
  },
  {
   "cell_type": "code",
   "execution_count": 2,
   "metadata": {},
   "outputs": [
    {
     "name": "stdout",
     "output_type": "stream",
     "text": [
      "raghunathji\n",
      "raghunathji\n",
      "raghunathji\n",
      "raghunathji\n",
      "raghunathji\n",
      "raghunathji\n",
      "raghunathji\n",
      "raghunathji\n",
      "raghunathji\n",
      "raghunathji\n"
     ]
    }
   ],
   "source": [
    "print(\"raghunathji\")\n",
    "print(\"raghunathji\")\n",
    "print(\"raghunathji\")\n",
    "print(\"raghunathji\")\n",
    "print(\"raghunathji\")\n",
    "print(\"raghunathji\")\n",
    "print(\"raghunathji\")\n",
    "print(\"raghunathji\")\n",
    "print(\"raghunathji\")\n",
    "print(\"raghunathji\")\n"
   ]
  },
  {
   "cell_type": "markdown",
   "metadata": {},
   "source": [
    "# string"
   ]
  },
  {
   "cell_type": "code",
   "execution_count": 4,
   "metadata": {},
   "outputs": [
    {
     "name": "stdout",
     "output_type": "stream",
     "text": [
      "raghunathji\n",
      "<class 'str'>\n",
      "3117582453808\n",
      "['__add__', '__class__', '__contains__', '__delattr__', '__dir__', '__doc__', '__eq__', '__format__', '__ge__', '__getattribute__', '__getitem__', '__getnewargs__', '__getstate__', '__gt__', '__hash__', '__init__', '__init_subclass__', '__iter__', '__le__', '__len__', '__lt__', '__mod__', '__mul__', '__ne__', '__new__', '__reduce__', '__reduce_ex__', '__repr__', '__rmod__', '__rmul__', '__setattr__', '__sizeof__', '__str__', '__subclasshook__', 'capitalize', 'casefold', 'center', 'count', 'encode', 'endswith', 'expandtabs', 'find', 'format', 'format_map', 'index', 'isalnum', 'isalpha', 'isascii', 'isdecimal', 'isdigit', 'isidentifier', 'islower', 'isnumeric', 'isprintable', 'isspace', 'istitle', 'isupper', 'join', 'ljust', 'lower', 'lstrip', 'maketrans', 'partition', 'removeprefix', 'removesuffix', 'replace', 'rfind', 'rindex', 'rjust', 'rpartition', 'rsplit', 'rstrip', 'split', 'splitlines', 'startswith', 'strip', 'swapcase', 'title', 'translate', 'upper', 'zfill']\n",
      "<generator object <genexpr> at 0x000002D5DE51FC60>\n"
     ]
    }
   ],
   "source": [
    "name = \"raghunathji\"\n",
    "name = 700\n",
    "print(name) # print\n",
    "print(type(name)) # type\n",
    "print(id(name)) # physical address\n",
    "print(dir(name)) # directory\n",
    "print(i for i in dir(name) if \"__\" not in i) # methods and attributes\n"
   ]
  },
  {
   "cell_type": "code",
   "execution_count": 5,
   "metadata": {},
   "outputs": [
    {
     "name": "stdout",
     "output_type": "stream",
     "text": [
      "Raghunathji\n"
     ]
    }
   ],
   "source": [
    "name : str = \"Raghunathji\"\n",
    "print(\"Raghunathji\")"
   ]
  },
  {
   "cell_type": "code",
   "execution_count": 6,
   "metadata": {},
   "outputs": [
    {
     "name": "stdout",
     "output_type": "stream",
     "text": [
      "Raghunathji\n",
      "700\n"
     ]
    }
   ],
   "source": [
    "name : str = \"Raghunathji\"\n",
    "print(\"Raghunathji\")\n",
    "\n",
    "names:str = 700\n",
    "print(names)\n"
   ]
  },
  {
   "cell_type": "code",
   "execution_count": 1,
   "metadata": {},
   "outputs": [
    {
     "name": "stdout",
     "output_type": "stream",
     "text": [
      "700\n"
     ]
    }
   ],
   "source": [
    "name:str = 700\n",
    "print(name)\n"
   ]
  },
  {
   "cell_type": "code",
   "execution_count": 2,
   "metadata": {},
   "outputs": [
    {
     "name": "stdout",
     "output_type": "stream",
     "text": [
      "raghunathji\n",
      "<class 'str'>\n",
      "1682504636272\n"
     ]
    }
   ],
   "source": [
    "name:str = \"raghunathji\"\n",
    "print(name) # print\n",
    "print(type(name)) # type\n",
    "print(id(name)) # physical address\n"
   ]
  },
  {
   "cell_type": "code",
   "execution_count": 3,
   "metadata": {},
   "outputs": [
    {
     "name": "stdout",
     "output_type": "stream",
     "text": [
      "700\n",
      "<class 'int'>\n",
      "1682504245360\n"
     ]
    }
   ],
   "source": [
    "name:int = 700\n",
    "print(name) # print\n",
    "print(type(name)) # type\n",
    "print(id(name)) # physical address\n"
   ]
  },
  {
   "cell_type": "code",
   "execution_count": 4,
   "metadata": {},
   "outputs": [
    {
     "name": "stdout",
     "output_type": "stream",
     "text": [
      "700.5\n",
      "<class 'float'>\n",
      "1682504238000\n"
     ]
    }
   ],
   "source": [
    "name:float = 700.5\n",
    "print(name) # print\n",
    "print(type(name)) # type\n",
    "print(id(name)) # physical address\n"
   ]
  },
  {
   "cell_type": "code",
   "execution_count": 5,
   "metadata": {},
   "outputs": [
    {
     "name": "stdout",
     "output_type": "stream",
     "text": [
      "True\n",
      "<class 'bool'>\n",
      "140730192693968\n"
     ]
    }
   ],
   "source": [
    "name:bool = True\n",
    "print(name) # print\n",
    "print(type(name)) # type\n",
    "print(id(name)) # physical address\n"
   ]
  },
  {
   "cell_type": "code",
   "execution_count": 7,
   "metadata": {},
   "outputs": [
    {
     "name": "stdout",
     "output_type": "stream",
     "text": [
      "['a', 'b', 'c', 'd', 'e', 'f']\n",
      "<class 'list'>\n",
      "1682504103168\n"
     ]
    }
   ],
   "source": [
    "name:list[str] = ['a', 'b', 'c', 'd', 'e', 'f']\n",
    "print(name) # print\n",
    "print(type(name)) # type\n",
    "print(id(name)) # physical address\n"
   ]
  },
  {
   "cell_type": "code",
   "execution_count": 10,
   "metadata": {},
   "outputs": [
    {
     "name": "stdout",
     "output_type": "stream",
     "text": [
      "('raghunathji', 700.5, True, 900)\n",
      "<class 'tuple'>\n",
      "1682504894960\n"
     ]
    }
   ],
   "source": [
    "name:tuple[str, float, bool, int] = (\"raghunathji\", 700.5, True, 900)\n",
    "print(name) # print\n",
    "print(type(name)) # type\n",
    "print(id(name)) # physical address\n"
   ]
  }
 ],
 "metadata": {
  "kernelspec": {
   "display_name": "python12",
   "language": "python",
   "name": "python3"
  },
  "language_info": {
   "codemirror_mode": {
    "name": "ipython",
    "version": 3
   },
   "file_extension": ".py",
   "mimetype": "text/x-python",
   "name": "python",
   "nbconvert_exporter": "python",
   "pygments_lexer": "ipython3",
   "version": "3.12.0"
  }
 },
 "nbformat": 4,
 "nbformat_minor": 2
}
