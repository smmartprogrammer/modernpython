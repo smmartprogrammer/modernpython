{
 "cells": [
  {
   "cell_type": "markdown",
   "metadata": {},
   "source": []
  },
  {
   "cell_type": "code",
   "execution_count": 1,
   "metadata": {},
   "outputs": [
    {
     "name": "stdout",
     "output_type": "stream",
     "text": [
      "Raghunathji\n"
     ]
    }
   ],
   "source": [
    "message:str = input(\"telll me some thind and i will repeated bback to you\")\n",
    "print(message)"
   ]
  },
  {
   "cell_type": "markdown",
   "metadata": {},
   "source": [
    "# loop and input from user\n",
    "* while\n",
    "* for\n",
    "* controls\n",
    "    * break\n",
    "    * continue\n",
    "    * pass\n",
    "* input with input function\n",
    "* input from console   \n",
    "\n",
    "# loop working on iterative data types\n",
    "* list\n",
    "* tuple\n",
    "* dictionary\n",
    "* string\n"
   ]
  },
  {
   "cell_type": "code",
   "execution_count": 1,
   "metadata": {},
   "outputs": [
    {
     "name": "stdout",
     "output_type": "stream",
     "text": [
      "[1, 2, 3, 4, 5, 6]\n"
     ]
    }
   ],
   "source": [
    "# simple printing\n",
    "L1 : list[int] = [1,2,3,4,5,6]\n",
    "print(L1)"
   ]
  },
  {
   "cell_type": "code",
   "execution_count": 2,
   "metadata": {},
   "outputs": [
    {
     "name": "stdout",
     "output_type": "stream",
     "text": [
      "1\n",
      "2\n",
      "3\n",
      "4\n",
      "5\n",
      "6\n"
     ]
    }
   ],
   "source": [
    "# iteration printing - individual printing all items\n",
    "L1 : list[int] = [1,2,3,4,5,6]\n",
    "for n in L1 :\n",
    "    print(n)\n",
    "    "
   ]
  },
  {
   "cell_type": "code",
   "execution_count": 3,
   "metadata": {},
   "outputs": [
    {
     "name": "stdout",
     "output_type": "stream",
     "text": [
      "current number : 1\n",
      "current number : 2\n",
      "current number : 3\n",
      "current number : 4\n",
      "current number : 5\n",
      "current number : 6\n"
     ]
    }
   ],
   "source": [
    "# iteration with fstring\n",
    "\n",
    "# iteration printing - individual printing all items\n",
    "L1 : list[int] = [1,2,3,4,5,6]\n",
    "for n in L1 :\n",
    "    print(f\"current number : {n }\")\n",
    "    "
   ]
  },
  {
   "cell_type": "code",
   "execution_count": 4,
   "metadata": {},
   "outputs": [
    {
     "name": "stdout",
     "output_type": "stream",
     "text": [
      "current alphabet :P \n",
      "current alphabet :A \n",
      "current alphabet :K \n",
      "current alphabet :I \n",
      "current alphabet :S \n",
      "current alphabet :T \n",
      "current alphabet :A \n",
      "current alphabet :N \n"
     ]
    }
   ],
   "source": [
    "l1 : str = \"PAKISTAN\"\n",
    "for c in l1 :\n",
    "#    print(f\"current alphabet :{c} \" ) "
   ]
  },
  {
   "cell_type": "code",
   "execution_count": 11,
   "metadata": {},
   "outputs": [
    {
     "name": "stdout",
     "output_type": "stream",
     "text": [
      "dictionary key name and value is PARTAB RAJ\n",
      "dictionary key fname and value is LALJEE CHHAGAN\n"
     ]
    }
   ],
   "source": [
    "# ITERATION PERFORMS ON KEYS\n",
    "l1 : dict[str,str] = {\"name\": \"PARTAB RAJ\", \"fname\" : \"LALJEE CHHAGAN\"}\n",
    "for k in l1 :\n",
    "    print(f\"dictionary key {k} and value is {l1[k]}\") "
   ]
  },
  {
   "cell_type": "code",
   "execution_count": 13,
   "metadata": {},
   "outputs": [
    {
     "name": "stdout",
     "output_type": "stream",
     "text": [
      "value from list of set : 1\n",
      "value from list of set : 2\n",
      "value from list of set : 3\n",
      "value from list of set : 4\n"
     ]
    }
   ],
   "source": [
    "# ITERATION PERFORMS ON KEYS\n",
    "l1 : list[set[int]] = {1,2,3,4,1,1,1,1}\n",
    "for k in l1 :\n",
    "    print(f\"value from list of set : {k}\") "
   ]
  },
  {
   "cell_type": "markdown",
   "metadata": {},
   "source": [
    "# Input from user\n",
    "* input function\n",
    "    * default type = string\n",
    "* sys.argv = (for console input in abc.py file)\n",
    "    * default type = object"
   ]
  },
  {
   "cell_type": "code",
   "execution_count": 15,
   "metadata": {},
   "outputs": [
    {
     "name": "stdout",
     "output_type": "stream",
     "text": [
      "<class 'str'>\n",
      "welcome dear User Mr. Partab Raj \n"
     ]
    }
   ],
   "source": [
    "name : str = input(\"What is your name? : \\t\")\n",
    "print(type(name))\n",
    "print(f\"welcome dear User Mr. {name} \")"
   ]
  },
  {
   "cell_type": "code",
   "execution_count": 16,
   "metadata": {},
   "outputs": [
    {
     "data": {
      "text/plain": [
       "['__add__',\n",
       " '__class__',\n",
       " '__contains__',\n",
       " '__delattr__',\n",
       " '__dir__',\n",
       " '__doc__',\n",
       " '__eq__',\n",
       " '__format__',\n",
       " '__ge__',\n",
       " '__getattribute__',\n",
       " '__getitem__',\n",
       " '__getnewargs__',\n",
       " '__getstate__',\n",
       " '__gt__',\n",
       " '__hash__',\n",
       " '__init__',\n",
       " '__init_subclass__',\n",
       " '__iter__',\n",
       " '__le__',\n",
       " '__len__',\n",
       " '__lt__',\n",
       " '__mod__',\n",
       " '__mul__',\n",
       " '__ne__',\n",
       " '__new__',\n",
       " '__reduce__',\n",
       " '__reduce_ex__',\n",
       " '__repr__',\n",
       " '__rmod__',\n",
       " '__rmul__',\n",
       " '__setattr__',\n",
       " '__sizeof__',\n",
       " '__str__',\n",
       " '__subclasshook__',\n",
       " 'capitalize',\n",
       " 'casefold',\n",
       " 'center',\n",
       " 'count',\n",
       " 'encode',\n",
       " 'endswith',\n",
       " 'expandtabs',\n",
       " 'find',\n",
       " 'format',\n",
       " 'format_map',\n",
       " 'index',\n",
       " 'isalnum',\n",
       " 'isalpha',\n",
       " 'isascii',\n",
       " 'isdecimal',\n",
       " 'isdigit',\n",
       " 'isidentifier',\n",
       " 'islower',\n",
       " 'isnumeric',\n",
       " 'isprintable',\n",
       " 'isspace',\n",
       " 'istitle',\n",
       " 'isupper',\n",
       " 'join',\n",
       " 'ljust',\n",
       " 'lower',\n",
       " 'lstrip',\n",
       " 'maketrans',\n",
       " 'partition',\n",
       " 'removeprefix',\n",
       " 'removesuffix',\n",
       " 'replace',\n",
       " 'rfind',\n",
       " 'rindex',\n",
       " 'rjust',\n",
       " 'rpartition',\n",
       " 'rsplit',\n",
       " 'rstrip',\n",
       " 'split',\n",
       " 'splitlines',\n",
       " 'startswith',\n",
       " 'strip',\n",
       " 'swapcase',\n",
       " 'title',\n",
       " 'translate',\n",
       " 'upper',\n",
       " 'zfill']"
      ]
     },
     "execution_count": 16,
     "metadata": {},
     "output_type": "execute_result"
    }
   ],
   "source": [
    "dir(str)"
   ]
  },
  {
   "cell_type": "markdown",
   "metadata": {},
   "source": [
    "# while loop \n",
    "\n",
    " * while logic : # True / False\n",
    "    * loop_body"
   ]
  },
  {
   "cell_type": "code",
   "execution_count": 17,
   "metadata": {},
   "outputs": [
    {
     "name": "stdout",
     "output_type": "stream",
     "text": [
      "current number is :1\n",
      "current number is :2\n",
      "current number is :3\n",
      "current number is :4\n",
      "current number is :5\n",
      "current number is :6\n",
      "current number is :7\n",
      "current number is :8\n",
      "current number is :9\n"
     ]
    }
   ],
   "source": [
    "flag : bool = True\n",
    "\n",
    "current_number : int = 1\n",
    "\n",
    "while flag:\n",
    "    print(f\"current number is :{current_number}\")\n",
    "    current_number += 1\n",
    "\n",
    "    if current_number == 10: # flag false at some point\n",
    "        break"
   ]
  },
  {
   "cell_type": "code",
   "execution_count": 23,
   "metadata": {},
   "outputs": [
    {
     "name": "stdout",
     "output_type": "stream",
     "text": [
      "current index is :0 and list value is :100\n",
      "current index is :1 and list value is :200\n",
      "current index is :2 and list value is :300\n"
     ]
    }
   ],
   "source": [
    "l1 : list[int] = [100,200,300]\n",
    "\n",
    "index : int = 0 # \n",
    "\n",
    "while index < len(l1):\n",
    "    print(f\"current index is :{index} and list value is :{l1[index]}\")\n",
    "    index += 1"
   ]
  },
  {
   "cell_type": "code",
   "execution_count": 5,
   "metadata": {},
   "outputs": [
    {
     "name": "stdout",
     "output_type": "stream",
     "text": [
      "write quite or exit to stop this program\n",
      "write quite or exit to stop this program\n",
      "write quite or exit to stop this program\n",
      "write quite or exit to stop this program\n"
     ]
    },
    {
     "data": {
      "text/plain": [
       "[{'name': 'a', 'education': 'a'},\n",
       " {'name': 'a', 'education': 'a'},\n",
       " {'name': 'a', 'education': 'a'}]"
      ]
     },
     "metadata": {},
     "output_type": "display_data"
    }
   ],
   "source": [
    "data: list[dict[str,str]] = []\n",
    "\n",
    "flag : bool = True \n",
    "\n",
    "while flag:\n",
    "    print(\"write quite or exit to stop this program\")\n",
    "    name : str = input(\"You good name ? \\t: \")\n",
    "    education : str = input(\"your last education? \\t\")\n",
    "\n",
    "    if name in ['exit', 'quit','close', 'stop'] or education in ['exit', 'quit','close', 'stop']:\n",
    "        flag = False\n",
    "        break\n",
    "    data.append({\"name\":name, \"education\": education})\n",
    "\n",
    "display(data)\n",
    "\n",
    "\n"
   ]
  },
  {
   "cell_type": "code",
   "execution_count": null,
   "metadata": {},
   "outputs": [],
   "source": []
  }
 ],
 "metadata": {
  "kernelspec": {
   "display_name": "python12",
   "language": "python",
   "name": "python3"
  },
  "language_info": {
   "codemirror_mode": {
    "name": "ipython",
    "version": 3
   },
   "file_extension": ".py",
   "mimetype": "text/x-python",
   "name": "python",
   "nbconvert_exporter": "python",
   "pygments_lexer": "ipython3",
   "version": "3.12.0"
  }
 },
 "nbformat": 4,
 "nbformat_minor": 2
}
