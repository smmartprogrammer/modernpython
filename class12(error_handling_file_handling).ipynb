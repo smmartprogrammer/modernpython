{
 "cells": [
  {
   "cell_type": "code",
   "execution_count": 6,
   "metadata": {},
   "outputs": [
    {
     "name": "stdout",
     "output_type": "stream",
     "text": [
      "logic1\n",
      "logic2\n",
      "2.5\n",
      "1\n",
      "name not define error\n",
      "logic4\n",
      "logic5\n"
     ]
    }
   ],
   "source": [
    "print(\"logic1\")\n",
    "print(\"logic2\")\n",
    "\n",
    "l1 : list[int] = [1,2,3]\n",
    "\n",
    "try:\n",
    "    print(5/2)\n",
    "    print(l1[0])\n",
    "    print(xyz) # error\n",
    "    open(\"aa.txt\") # this will give error, because this file doesnt exist, it just a demo of error handling\n",
    "except (ZeroDivisionError):\n",
    "    print(\"zerro division error\")\n",
    "except (IndexError):\n",
    "    print(\"index error\")\n",
    "except (NameError):\n",
    "    print(\"name not define error\")\n",
    "except:\n",
    "    print(\"when you dont sellect any error type, then it will dynamically stop all errors\")\n",
    "\n",
    "print(\"logic4\")\n",
    "print(\"logic5\")\n"
   ]
  },
  {
   "cell_type": "code",
   "execution_count": 7,
   "metadata": {},
   "outputs": [
    {
     "name": "stdout",
     "output_type": "stream",
     "text": [
      "some is wrong!: \n",
      " name 'age' is not defined\n"
     ]
    }
   ],
   "source": [
    "try:\n",
    "    print(age)\n",
    "except Exception as e:\n",
    "    print(f\"some is wrong!: \\n {e}\")"
   ]
  }
 ],
 "metadata": {
  "kernelspec": {
   "display_name": "python12",
   "language": "python",
   "name": "python3"
  },
  "language_info": {
   "codemirror_mode": {
    "name": "ipython",
    "version": 3
   },
   "file_extension": ".py",
   "mimetype": "text/x-python",
   "name": "python",
   "nbconvert_exporter": "python",
   "pygments_lexer": "ipython3",
   "version": "3.12.0"
  }
 },
 "nbformat": 4,
 "nbformat_minor": 2
}
