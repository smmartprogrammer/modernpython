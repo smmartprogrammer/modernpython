{
 "cells": [
  {
   "cell_type": "code",
   "execution_count": 1,
   "metadata": {},
   "outputs": [
    {
     "name": "stdout",
     "output_type": "stream",
     "text": [
      "raghunathji\n"
     ]
    }
   ],
   "source": [
    "print(\"raghunathji\")"
   ]
  },
  {
   "cell_type": "code",
   "execution_count": 2,
   "metadata": {},
   "outputs": [
    {
     "ename": "NameError",
     "evalue": "name 'raghunathji' is not defined",
     "output_type": "error",
     "traceback": [
      "\u001b[1;31m---------------------------------------------------------------------------\u001b[0m",
      "\u001b[1;31mNameError\u001b[0m                                 Traceback (most recent call last)",
      "\u001b[1;32md:\\PIAIC\\python\\class2_string_fstring.ipynb Cell 2\u001b[0m line \u001b[0;36m1\n\u001b[1;32m----> <a href='vscode-notebook-cell:/d%3A/PIAIC/python/class2_string_fstring.ipynb#W1sZmlsZQ%3D%3D?line=0'>1</a>\u001b[0m \u001b[39mprint\u001b[39m(raghunathji)\n\u001b[0;32m      <a href='vscode-notebook-cell:/d%3A/PIAIC/python/class2_string_fstring.ipynb#W1sZmlsZQ%3D%3D?line=3'>4</a>\u001b[0m raghunathji:\u001b[39mstr\u001b[39m \u001b[39m=\u001b[39m \u001b[39m\"\u001b[39m\u001b[39mjay shree raam\u001b[39m\u001b[39m\"\u001b[39m\n\u001b[0;32m      <a href='vscode-notebook-cell:/d%3A/PIAIC/python/class2_string_fstring.ipynb#W1sZmlsZQ%3D%3D?line=4'>5</a>\u001b[0m \u001b[39mprint\u001b[39m(raghunathji)\n",
      "\u001b[1;31mNameError\u001b[0m: name 'raghunathji' is not defined"
     ]
    }
   ],
   "source": [
    "print(raghunathji)\n",
    "\n",
    "\n"
   ]
  },
  {
   "cell_type": "code",
   "execution_count": 4,
   "metadata": {},
   "outputs": [
    {
     "name": "stdout",
     "output_type": "stream",
     "text": [
      "<class 'str'>\n",
      "sita raam\n"
     ]
    }
   ],
   "source": [
    "# boundaries \n",
    "# 'string text', \"string text\", '''string text''', \"\"\"string text\"\"\"\",\n",
    "# `string text` typescript\n",
    "\n",
    "name:str = 'sita raam'\n",
    "print(type(name))\n",
    "print(name)\n",
    "\n"
   ]
  },
  {
   "cell_type": "code",
   "execution_count": 5,
   "metadata": {},
   "outputs": [
    {
     "ename": "SyntaxError",
     "evalue": "unterminated string literal (detected at line 1) (1319097498.py, line 1)",
     "output_type": "error",
     "traceback": [
      "\u001b[1;36m  Cell \u001b[1;32mIn[5], line 1\u001b[1;36m\u001b[0m\n\u001b[1;33m    message :str = 'you father's name is laljee'\u001b[0m\n\u001b[1;37m                                               ^\u001b[0m\n\u001b[1;31mSyntaxError\u001b[0m\u001b[1;31m:\u001b[0m unterminated string literal (detected at line 1)\n"
     ]
    }
   ],
   "source": [
    "message :str = 'you father's name is laljee'"
   ]
  },
  {
   "cell_type": "code",
   "execution_count": 8,
   "metadata": {},
   "outputs": [
    {
     "name": "stdout",
     "output_type": "stream",
     "text": [
      "you father's name is \n",
      " laljee\n"
     ]
    }
   ],
   "source": [
    "message :str = \"you father's name is \\n laljee\"\n",
    "print(message)"
   ]
  },
  {
   "cell_type": "code",
   "execution_count": 9,
   "metadata": {},
   "outputs": [
    {
     "name": "stdout",
     "output_type": "stream",
     "text": [
      "you fathers name is \n",
      " \"laljee\"\n"
     ]
    }
   ],
   "source": [
    "message :str = 'you fathers name is \\n \"laljee\"'\n",
    "print(message)"
   ]
  },
  {
   "cell_type": "code",
   "execution_count": null,
   "metadata": {},
   "outputs": [],
   "source": []
  },
  {
   "cell_type": "code",
   "execution_count": 3,
   "metadata": {},
   "outputs": [
    {
     "name": "stdout",
     "output_type": "stream",
     "text": [
      "jay shree raam\n"
     ]
    }
   ],
   "source": [
    "raghunathji:str = \"jay shree raam\"\n",
    "print(raghunathji)"
   ]
  },
  {
   "cell_type": "code",
   "execution_count": 10,
   "metadata": {},
   "outputs": [
    {
     "name": "stdout",
     "output_type": "stream",
     "text": [
      "my father's name is Laljee\n"
     ]
    }
   ],
   "source": [
    "#convert any special characters into simple character, place \\ before the character\n",
    "message : str = 'my father\\'s name is Laljee'\n",
    "print(message)"
   ]
  },
  {
   "cell_type": "code",
   "execution_count": 20,
   "metadata": {},
   "outputs": [
    {
     "name": "stdout",
     "output_type": "stream",
     "text": [
      "PIAIC Student Card\n",
      "Student Name: Partab Raj\n",
      "Fname:  Laljee Chaggan\n",
      "\n",
      "Age: 37Education: EMBA - Finance\n"
     ]
    }
   ],
   "source": [
    "# boundaries \n",
    "# 'string text', \"string text\", '''string text''', \"\"\"string text\"\"\"\",\n",
    "# `string text` typescript\n",
    "\n",
    "name : str = \"Partab Raj\"\n",
    "FName : str = \" Laljee Chaggan\"\n",
    "Education: str = \"EMBA - Finance\"\n",
    "Age : int = 37\n",
    "\n",
    "card : str = \"PIAIC Student Card\\nStudent Name: \"+ name + \"\\n\"\\\n",
    "\"Fname: \" + FName+ \"\\n\"+\\\n",
    "\"\\nAge: \"+ str(Age) +\"\\n\"\n",
    "\"Education: \"+ Education \n",
    "print(card)"
   ]
  },
  {
   "cell_type": "code",
   "execution_count": 16,
   "metadata": {},
   "outputs": [
    {
     "name": "stdout",
     "output_type": "stream",
     "text": [
      "20\n"
     ]
    }
   ],
   "source": [
    "\n",
    "# line continue \" \\ \"\n",
    "print(7 + \\\n",
    "      8 + \\\n",
    "        5)"
   ]
  }
 ],
 "metadata": {
  "kernelspec": {
   "display_name": "raghunathji12",
   "language": "python",
   "name": "python3"
  },
  "language_info": {
   "codemirror_mode": {
    "name": "ipython",
    "version": 3
   },
   "file_extension": ".py",
   "mimetype": "text/x-python",
   "name": "python",
   "nbconvert_exporter": "python",
   "pygments_lexer": "ipython3",
   "version": "3.12.0"
  }
 },
 "nbformat": 4,
 "nbformat_minor": 2
}
