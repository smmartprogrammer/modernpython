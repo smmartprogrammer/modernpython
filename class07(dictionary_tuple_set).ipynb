{
 "cells": [
  {
   "cell_type": "markdown",
   "metadata": {},
   "source": [
    "# List\n",
    "data : list[str] = [\"Muhammad Aslam \", \" Muhammad Qasim\", \"MSDC\"]"
   ]
  },
  {
   "cell_type": "markdown",
   "metadata": {},
   "source": [
    "# Dictionary\n",
    "\n",
    "    * key : Value (items)\n",
    "            * key replacement of indexes\n",
    "            * value item\n",
    "    * dic_variable[key]\n",
    "        * dict_variable[new_key] = new_value\n",
    "                * add new value\n",
    "                * update value"
   ]
  },
  {
   "cell_type": "code",
   "execution_count": 1,
   "metadata": {},
   "outputs": [
    {
     "data": {
      "text/plain": [
       "{'fname': 'Laljee Chhagan', 'name': 'Partab Raja', 'education': 'EMBA'}"
      ]
     },
     "metadata": {},
     "output_type": "display_data"
    }
   ],
   "source": [
    "from typing import Dict\n",
    "# List \n",
    "data :Dict[str,str] = {\n",
    "    \"fname\" : \"Laljee Chhagan\",\n",
    "    \"name\" : \"Partab Raja\",\n",
    "    \"education\" : \"EMBA\"\n",
    "}\n",
    "display(data)\n"
   ]
  },
  {
   "cell_type": "code",
   "execution_count": 3,
   "metadata": {},
   "outputs": [
    {
     "name": "stdout",
     "output_type": "stream",
     "text": [
      "{'education': 'EMBA', 'fname': 'Laljee Chhagan', 'name': 'Partab Raja'}\n"
     ]
    }
   ],
   "source": [
    "from typing import Dict\n",
    "import pprint\n",
    "# List \n",
    "data :Dict[str,str] = {\n",
    "    \"fname\" : \"Laljee Chhagan\",\n",
    "    \"name\" : \"Partab Raja\",\n",
    "    \"education\" : \"EMBA\"\n",
    "}\n",
    "pprint.pprint(data)\n"
   ]
  }
 ],
 "metadata": {
  "kernelspec": {
   "display_name": "python12",
   "language": "python",
   "name": "python3"
  },
  "language_info": {
   "codemirror_mode": {
    "name": "ipython",
    "version": 3
   },
   "file_extension": ".py",
   "mimetype": "text/x-python",
   "name": "python",
   "nbconvert_exporter": "python",
   "pygments_lexer": "ipython3",
   "version": "3.12.0"
  }
 },
 "nbformat": 4,
 "nbformat_minor": 2
}
