{
 "cells": [
  {
   "cell_type": "code",
   "execution_count": 4,
   "metadata": {},
   "outputs": [
    {
     "name": "stdout",
     "output_type": "stream",
     "text": [
      "Muhammad Aslam \n"
     ]
    }
   ],
   "source": [
    "# List\n",
    "data : list[str] = [\"Muhammad Aslam \", \" Muhammad Qasim\", \"MSDC\"]\n",
    "\n",
    "print(data[0])"
   ]
  },
  {
   "cell_type": "code",
   "execution_count": 7,
   "metadata": {},
   "outputs": [
    {
     "name": "stdout",
     "output_type": "stream",
     "text": [
      "{1, 2, 3, 7}\n"
     ]
    }
   ],
   "source": [
    "# set data type\n",
    "data : set = {7,1,2,1,1,1,1,3,2} # set data type is always in curly bracket, it provides unique values\n",
    "print(data) # index value can not be applied on set data"
   ]
  },
  {
   "cell_type": "code",
   "execution_count": 8,
   "metadata": {},
   "outputs": [
    {
     "data": {
      "text/plain": [
       "['add',\n",
       " 'clear',\n",
       " 'copy',\n",
       " 'difference',\n",
       " 'difference_update',\n",
       " 'discard',\n",
       " 'intersection',\n",
       " 'intersection_update',\n",
       " 'isdisjoint',\n",
       " 'issubset',\n",
       " 'issuperset',\n",
       " 'pop',\n",
       " 'remove',\n",
       " 'symmetric_difference',\n",
       " 'symmetric_difference_update',\n",
       " 'union',\n",
       " 'update']"
      ]
     },
     "execution_count": 8,
     "metadata": {},
     "output_type": "execute_result"
    }
   ],
   "source": [
    "[ i for i in dir(data) if \"__\" not in i] "
   ]
  },
  {
   "cell_type": "markdown",
   "metadata": {},
   "source": [
    "# Dictionary\n",
    "\n",
    "    * key : Value (items)\n",
    "            * key replacement of indexes\n",
    "            * value item\n",
    "    * dic_variable[key]\n",
    "        * dict_variable[new_key] = new_value\n",
    "                * add new value\n",
    "                * update value"
   ]
  },
  {
   "cell_type": "code",
   "execution_count": 1,
   "metadata": {},
   "outputs": [
    {
     "data": {
      "text/plain": [
       "{'fname': 'Laljee Chhagan', 'name': 'Partab Raja', 'education': 'EMBA'}"
      ]
     },
     "metadata": {},
     "output_type": "display_data"
    }
   ],
   "source": [
    "from typing import Dict\n",
    "# List \n",
    "data :Dict[str,str] = {\n",
    "    \"fname\" : \"Laljee Chhagan\",\n",
    "    \"name\" : \"Partab Raja\",\n",
    "    \"education\" : \"EMBA\"\n",
    "}\n",
    "display(data)\n"
   ]
  },
  {
   "cell_type": "code",
   "execution_count": 3,
   "metadata": {},
   "outputs": [
    {
     "name": "stdout",
     "output_type": "stream",
     "text": [
      "{'education': 'EMBA', 'fname': 'Laljee Chhagan', 'name': 'Partab Raja'}\n"
     ]
    }
   ],
   "source": [
    "from typing import Dict\n",
    "import pprint\n",
    "# List \n",
    "data :Dict[str,str] = {\n",
    "    \"fname\" : \"Laljee Chhagan\",\n",
    "    \"name\" : \"Partab Raja\",\n",
    "    \"education\" : \"EMBA\"\n",
    "}\n",
    "pprint.pprint(data)\n"
   ]
  },
  {
   "cell_type": "code",
   "execution_count": 5,
   "metadata": {},
   "outputs": [
    {
     "name": "stdout",
     "output_type": "stream",
     "text": [
      "{'education': 'EMBA', 'fname': 'Laljee Chhagan', 'name': 'Partab Raja'}\n",
      "Partab Raja\n"
     ]
    }
   ],
   "source": [
    "from typing import Dict, Union, Optional\n",
    "import pprint\n",
    "\n",
    "key = Union[int, str] # create custome type\n",
    "value = Union[int, str, list, set, tuple, dict] # create\n",
    "\n",
    "data :Dict[key,value] = {\n",
    "    \"fname\" : \"Laljee Chhagan\",\n",
    "    \"name\" : \"Partab Raj\",\n",
    "    \"education\" : \"EMBA\"\n",
    "}\n",
    "pprint.pprint(data)\n",
    "print(data[\"name\"])"
   ]
  },
  {
   "cell_type": "code",
   "execution_count": 6,
   "metadata": {},
   "outputs": [
    {
     "name": "stdout",
     "output_type": "stream",
     "text": [
      "{100: 'Pakistan',\n",
      " 'education': 'EMBA',\n",
      " 'fname': 'Laljee Chhagan',\n",
      " 'name': 'Partab Raj'}\n",
      "Partab Raj\n",
      "Pakistan\n"
     ]
    }
   ],
   "source": [
    "from typing import Dict, Union, Optional\n",
    "import pprint\n",
    "\n",
    "key = Union[int, str] # create custome type\n",
    "value = Union[int, str, list, set, tuple, dict] # create\n",
    "\n",
    "data :Dict[key,value] = {\n",
    "    \"fname\" : \"Laljee Chhagan\",\n",
    "    \"name\" : \"Partab Raj\",\n",
    "    \"education\" : \"EMBA\",\n",
    "    100: \"Pakistan\" # index = key\n",
    "}\n",
    "pprint.pprint(data)\n",
    "print(data[\"name\"])\n",
    "print(data[100])"
   ]
  },
  {
   "cell_type": "code",
   "execution_count": null,
   "metadata": {},
   "outputs": [],
   "source": [
    "from typing import Dict, Union, Optional\n",
    "import pprint\n",
    "\n",
    "key = Union[int, str] # create custome type\n",
    "value = Union[int, str, list, set, tuple, dict] # create\n",
    "\n",
    "data :Dict[key,value] = {\n",
    "    \"fname\" : \"Laljee Chhagan\",\n",
    "    \"name\" : \"Partab Raj\",\n",
    "    \"education\" : \"EMBA\",\n",
    "    100: \"Pakistan\", # index = key\n",
    "    # [1,2,3] : \"Pakistan\" # error\n",
    "    # (1,2,3) : \"Pakistan\" # error\n",
    "    # {1,2,3} : \"Pakistan\" # error\n",
    "}\n",
    "pprint.pprint(data)\n",
    "print(data[\"name\"])\n",
    "print(data[100])"
   ]
  },
  {
   "cell_type": "code",
   "execution_count": 10,
   "metadata": {},
   "outputs": [
    {
     "name": "stdout",
     "output_type": "stream",
     "text": [
      "{100: 'Pakistan',\n",
      " 'abc': [1, 2, 3],\n",
      " 'cde': {'A': 1, 'B': 2},\n",
      " 'education': 'EMBA',\n",
      " 'efg': (1, 2, 3),\n",
      " 'fname': 'Laljee Chhagan',\n",
      " 'name': 'Partab Raj',\n",
      " 'xyz': {1, 2, 3}}\n",
      "Partab Raj\n",
      "Pakistan\n",
      "{1, 2, 3}\n"
     ]
    }
   ],
   "source": [
    "from typing import Dict, Union, Optional\n",
    "import pprint\n",
    "\n",
    "key = Union[int, str] # create custome type\n",
    "value = Union[int, str, list, set, tuple, dict] # create\n",
    "\n",
    "data :Dict[key,value] = {\n",
    "    \"fname\" : \"Laljee Chhagan\",\n",
    "    \"name\" : \"Partab Raj\",\n",
    "    \"education\" : \"EMBA\",\n",
    "    \"abc\" : [1,2,3],\n",
    "    \"xyz\" :  {1,2,3},\n",
    "    \"efg\" : (1,2,3),\n",
    "    \"cde\" : {\"A\":1, \"B\":2 },\n",
    "    100: \"Pakistan\", # index = key\n",
    "    # [1,2,3] : \"Pakistan\" # error\n",
    "    # (1,2,3) : \"Pakistan\" # error\n",
    "    # {1,2,3} : \"Pakistan\" # error\n",
    "}\n",
    "pprint.pprint(data)\n",
    "print(data[\"name\"])\n",
    "print(data[100])\n",
    "print(data[\"xyz\"])"
   ]
  },
  {
   "cell_type": "code",
   "execution_count": 12,
   "metadata": {},
   "outputs": [
    {
     "name": "stdout",
     "output_type": "stream",
     "text": [
      "{1, 2, 3}\n",
      "[1, 2, 3]\n"
     ]
    }
   ],
   "source": [
    "abc : set = {1,2,3,2,2,1}\n",
    "print(abc)\n",
    "xyz : list[int] = list(abc)\n",
    "print(xyz)"
   ]
  },
  {
   "cell_type": "code",
   "execution_count": 14,
   "metadata": {},
   "outputs": [
    {
     "name": "stdout",
     "output_type": "stream",
     "text": [
      "{'name': 'Raghunathji', 'fname': 'sita raam', 'education': 'EMBA'}\n"
     ]
    }
   ],
   "source": [
    "from typing import Dict\n",
    "\n",
    "key = Union[int, str] # create custome key\n",
    "value = Union[int, list, dict, set, tuple, str]\n",
    "\n",
    "data :Dict[key,value] = {}\n",
    "\n",
    "data[\"name\"] = \"Raghunathji\" # add new key and values\n",
    "data[\"fname\"] = \"sita raam\"\n",
    "data[\"education\"] = \"EMBA\"\n",
    "\n",
    "print(data)\n",
    "\n"
   ]
  },
  {
   "cell_type": "code",
   "execution_count": 13,
   "metadata": {},
   "outputs": [
    {
     "name": "stdout",
     "output_type": "stream",
     "text": [
      "{'fname': 'Laljee Chhagan', 'name': 'Partab Raja', 'education': 'EMBA'}\n",
      "{'fname': 'Laljee Chhagan', 'name': 'Raghunathji', 'education': 'EMBA'}\n"
     ]
    }
   ],
   "source": [
    "from typing import Dict\n",
    "\n",
    "key = Union[int, str] # create custome key\n",
    "value = Union[str, str] # create custome value[int, list, dict, set, tuple, str] # create custome value\n",
    "\n",
    "data :Dict[key,value] = {\n",
    "    \"fname\" : \"Laljee Chhagan\",\n",
    "    \"name\" : \"Partab Raja\",\n",
    "    \"education\" : \"EMBA\"\n",
    "}\n",
    "\n",
    "print(data)\n",
    "\n",
    "data[\"name\"] = \"Raghunathji\"\n",
    "print(data)"
   ]
  },
  {
   "cell_type": "code",
   "execution_count": 16,
   "metadata": {},
   "outputs": [
    {
     "ename": "KeyError",
     "evalue": "'Pakistan'",
     "output_type": "error",
     "traceback": [
      "\u001b[1;31m---------------------------------------------------------------------------\u001b[0m",
      "\u001b[1;31mKeyError\u001b[0m                                  Traceback (most recent call last)",
      "Cell \u001b[1;32mIn[16], line 13\u001b[0m\n\u001b[0;32m      5\u001b[0m value \u001b[38;5;241m=\u001b[39m Union[\u001b[38;5;28mstr\u001b[39m, \u001b[38;5;28mlist\u001b[39m, \u001b[38;5;28mset\u001b[39m, \u001b[38;5;28mdict\u001b[39m, \u001b[38;5;28mtuple\u001b[39m, \u001b[38;5;28mint\u001b[39m]\n\u001b[0;32m      7\u001b[0m data :Dict[key,value] \u001b[38;5;241m=\u001b[39m {\n\u001b[0;32m      8\u001b[0m     \u001b[38;5;124m\"\u001b[39m\u001b[38;5;124mfname\u001b[39m\u001b[38;5;124m\"\u001b[39m : \u001b[38;5;124m\"\u001b[39m\u001b[38;5;124mLaljee Chhagan\u001b[39m\u001b[38;5;124m\"\u001b[39m,\n\u001b[0;32m      9\u001b[0m     \u001b[38;5;124m\"\u001b[39m\u001b[38;5;124mname\u001b[39m\u001b[38;5;124m\"\u001b[39m : \u001b[38;5;124m\"\u001b[39m\u001b[38;5;124mPartab Raja\u001b[39m\u001b[38;5;124m\"\u001b[39m,\n\u001b[0;32m     10\u001b[0m     \u001b[38;5;124m\"\u001b[39m\u001b[38;5;124meducation\u001b[39m\u001b[38;5;124m\"\u001b[39m : \u001b[38;5;124m\"\u001b[39m\u001b[38;5;124mEMBA\u001b[39m\u001b[38;5;124m\"\u001b[39m\n\u001b[0;32m     11\u001b[0m }\n\u001b[1;32m---> 13\u001b[0m \u001b[38;5;28mprint\u001b[39m(\u001b[43mdata\u001b[49m\u001b[43m[\u001b[49m\u001b[38;5;124;43m\"\u001b[39;49m\u001b[38;5;124;43mPakistan\u001b[39;49m\u001b[38;5;124;43m\"\u001b[39;49m\u001b[43m]\u001b[49m)\n\u001b[0;32m     14\u001b[0m [i \u001b[38;5;28;01mfor\u001b[39;00m i \u001b[38;5;129;01min\u001b[39;00m \u001b[38;5;28mdir\u001b[39m(data) \u001b[38;5;28;01mif\u001b[39;00m \u001b[38;5;124m\"\u001b[39m\u001b[38;5;124m__\u001b[39m\u001b[38;5;124m\"\u001b[39m \u001b[38;5;129;01mnot\u001b[39;00m \u001b[38;5;129;01min\u001b[39;00m i]\n",
      "\u001b[1;31mKeyError\u001b[0m: 'Pakistan'"
     ]
    }
   ],
   "source": [
    "from typing import Dict, Union, Optional\n",
    "import pprint \n",
    "\n",
    "key = Union[int, str] # create custome type\n",
    "value = Union[str, list, set, dict, tuple, int]\n",
    "\n",
    "data :Dict[key,value] = {\n",
    "    \"fname\" : \"Laljee Chhagan\",\n",
    "    \"name\" : \"Partab Raja\",\n",
    "    \"education\" : \"EMBA\"\n",
    "}\n",
    "\n",
    "print(data[\"Pakistan\"])\n",
    "[i for i in dir(data) if \"__\" not in i]"
   ]
  },
  {
   "cell_type": "code",
   "execution_count": 19,
   "metadata": {},
   "outputs": [
    {
     "name": "stdout",
     "output_type": "stream",
     "text": [
      "not available\n",
      "Partab Raja\n"
     ]
    },
    {
     "data": {
      "text/plain": [
       "['clear',\n",
       " 'copy',\n",
       " 'fromkeys',\n",
       " 'get',\n",
       " 'items',\n",
       " 'keys',\n",
       " 'pop',\n",
       " 'popitem',\n",
       " 'setdefault',\n",
       " 'update',\n",
       " 'values']"
      ]
     },
     "execution_count": 19,
     "metadata": {},
     "output_type": "execute_result"
    }
   ],
   "source": [
    "from typing import Dict, Union, Optional\n",
    "import pprint \n",
    "\n",
    "key = Union[int, str] # create custome type\n",
    "value = Union[str, list, set, dict, tuple, int]\n",
    "\n",
    "data :Dict[key,value] = {\n",
    "    \"fname\" : \"Laljee Chhagan\",\n",
    "    \"name\" : \"Partab Raja\",\n",
    "    \"education\" : \"EMBA\"\n",
    "}\n",
    "\n",
    "print(data.get(\"Pakistan\", \"not available\"))\n",
    "print(data.get(\"name\", \"not available\"))\n",
    "      \n",
    "[i for i in dir(data) if \"__\" not in i]"
   ]
  },
  {
   "cell_type": "code",
   "execution_count": 22,
   "metadata": {},
   "outputs": [
    {
     "name": "stdout",
     "output_type": "stream",
     "text": [
      "dict_keys(['fname', 'name', 'education'])\n",
      "dict_values(['Laljee Chhagan', 'Partab Raja', 'EMBA'])\n",
      "dict_items([('fname', 'Laljee Chhagan'), ('name', 'Partab Raja'), ('education', 'EMBA')])\n",
      "fname Laljee Chhagan\n",
      "name Partab Raja\n",
      "education EMBA\n"
     ]
    }
   ],
   "source": [
    "from typing import Dict, Union, Optional\n",
    "import pprint \n",
    "\n",
    "key = Union[int, str] # create custome type\n",
    "value = Union[str, list, set, dict, tuple, int]\n",
    "\n",
    "data :Dict[key,value] = {\n",
    "    \"fname\" : \"Laljee Chhagan\",\n",
    "    \"name\" : \"Partab Raja\",\n",
    "    \"education\" : \"EMBA\"\n",
    "}\n",
    "\n",
    "print(data.keys()) # keys      \n",
    "print(data.values()) # values\n",
    "print(data.items()) # items\n",
    "\n",
    "for k in data.keys():\n",
    "    print(k, data[k])"
   ]
  },
  {
   "cell_type": "code",
   "execution_count": 24,
   "metadata": {},
   "outputs": [
    {
     "name": "stdout",
     "output_type": "stream",
     "text": [
      "dict_keys(['fname', 'name', 'education'])\n",
      "dict_values(['Laljee Chhagan', 'Partab Raja', 'EMBA'])\n",
      "dict_items([('fname', 'Laljee Chhagan'), ('name', 'Partab Raja'), ('education', 'EMBA')])\n",
      "fname Laljee Chhagan\n",
      "name Partab Raja\n",
      "education EMBA\n"
     ]
    }
   ],
   "source": [
    "from typing import Dict, Union, Optional\n",
    "import pprint \n",
    "\n",
    "key = Union[int, str] # create custome type\n",
    "value = Union[str, list, set, dict, tuple, int]\n",
    "\n",
    "data :Dict[key,value] = {\n",
    "    \"fname\" : \"Laljee Chhagan\",\n",
    "    \"name\" : \"Partab Raja\",\n",
    "    \"education\" : \"EMBA\"\n",
    "}\n",
    "\n",
    "print(data.keys()) # keys      \n",
    "print(data.values()) # values\n",
    "print(data.items()) # items\n",
    "\n",
    "for k,v in data.items():\n",
    "    print(k,v) #"
   ]
  },
  {
   "cell_type": "code",
   "execution_count": 25,
   "metadata": {},
   "outputs": [
    {
     "data": {
      "text/plain": [
       "{'Laljee Chhagan': 'fname', 'Partab Raja': 'name', 'EMBA': 'education'}"
      ]
     },
     "execution_count": 25,
     "metadata": {},
     "output_type": "execute_result"
    }
   ],
   "source": [
    "{v:k for k,v in data.items()}\n",
    "    "
   ]
  },
  {
   "cell_type": "code",
   "execution_count": 26,
   "metadata": {},
   "outputs": [
    {
     "name": "stdout",
     "output_type": "stream",
     "text": [
      "9 7\n"
     ]
    }
   ],
   "source": [
    "a : int = 7\n",
    "b : int = 9\n",
    "\n",
    "a,b = b,a # shuffle \n",
    "print(a,b)\n"
   ]
  },
  {
   "cell_type": "code",
   "execution_count": 28,
   "metadata": {},
   "outputs": [
    {
     "name": "stdout",
     "output_type": "stream",
     "text": [
      "{}\n",
      "{'id': None, 'name': None, 'fname': None, 'course': None}\n"
     ]
    }
   ],
   "source": [
    "keys : list[str] = ['id', 'name', 'fname','course']\n",
    "data : dict[key, value] = {}\n",
    "print(data)\n",
    "\n",
    "data = data.fromkeys(keys) # inline\n",
    "print(data)"
   ]
  }
 ],
 "metadata": {
  "kernelspec": {
   "display_name": "python12",
   "language": "python",
   "name": "python3"
  },
  "language_info": {
   "codemirror_mode": {
    "name": "ipython",
    "version": 3
   },
   "file_extension": ".py",
   "mimetype": "text/x-python",
   "name": "python",
   "nbconvert_exporter": "python",
   "pygments_lexer": "ipython3",
   "version": "3.12.0"
  }
 },
 "nbformat": 4,
 "nbformat_minor": 2
}
