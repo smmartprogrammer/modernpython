{
 "cells": [
  {
   "cell_type": "markdown",
   "metadata": {},
   "source": [
    "# Multiple Inheritance"
   ]
  },
  {
   "cell_type": "code",
   "execution_count": 4,
   "metadata": {},
   "outputs": [
    {
     "name": "stdout",
     "output_type": "stream",
     "text": [
      "object height 6 feet \n",
      "object eye color blue \n"
     ]
    },
    {
     "data": {
      "text/plain": [
       "'Mother speaking function Pakistan Zindabad '"
      ]
     },
     "execution_count": 4,
     "metadata": {},
     "output_type": "execute_result"
    }
   ],
   "source": [
    "# Multiple Inheritance\n",
    "class Mother:\n",
    "    def __init__(self, name: str)->None:\n",
    "        self.name:str = name\n",
    "        self.eye_color:str =\"blue\"\n",
    "\n",
    "    def speaking(self, words: str)->str:\n",
    "        return f\"Mother speaking function {words} \"\n",
    "    \n",
    "class Father:\n",
    "    def __init__(self, name: str) -> None:\n",
    "        self.name :str = name\n",
    "        self.height : str = \"6 feet\"\n",
    "\n",
    "class Child(Mother, Father):\n",
    "    def __init__(self, mother_name: str, father_name: str, child_name: str ) -> None:\n",
    "        Mother.__init__(self, mother_name)\n",
    "        Father.__init__(self, father_name)\n",
    "        self.child_name : str = child_name\n",
    "\n",
    "partab : Child = Child(\"Chanda\", \"Laljee\", \"Partab Raj\")\n",
    "\n",
    "print(f\"object height {partab.height} \")\n",
    "print(f\"object eye color {partab.eye_color} \") \n",
    "partab.speaking(\"Pakistan Zindabad\")"
   ]
  },
  {
   "cell_type": "code",
   "execution_count": 2,
   "metadata": {},
   "outputs": [
    {
     "data": {
      "text/plain": [
       "['__class__',\n",
       " '__delattr__',\n",
       " '__dict__',\n",
       " '__dir__',\n",
       " '__doc__',\n",
       " '__eq__',\n",
       " '__format__',\n",
       " '__ge__',\n",
       " '__getattribute__',\n",
       " '__getstate__',\n",
       " '__gt__',\n",
       " '__hash__',\n",
       " '__init__',\n",
       " '__init_subclass__',\n",
       " '__le__',\n",
       " '__lt__',\n",
       " '__module__',\n",
       " '__ne__',\n",
       " '__new__',\n",
       " '__reduce__',\n",
       " '__reduce_ex__',\n",
       " '__repr__',\n",
       " '__setattr__',\n",
       " '__sizeof__',\n",
       " '__str__',\n",
       " '__subclasshook__',\n",
       " '__weakref__',\n",
       " 'child_name',\n",
       " 'eye_color',\n",
       " 'height',\n",
       " 'name',\n",
       " 'speaking']"
      ]
     },
     "execution_count": 2,
     "metadata": {},
     "output_type": "execute_result"
    }
   ],
   "source": [
    "dir(partab)"
   ]
  },
  {
   "cell_type": "code",
   "execution_count": 6,
   "metadata": {},
   "outputs": [
    {
     "name": "stdout",
     "output_type": "stream",
     "text": [
      "object height 6 feet \n",
      "object eye color blue \n"
     ]
    },
    {
     "data": {
      "text/plain": [
       "'Father speaking function Pakistan Zindabad '"
      ]
     },
     "execution_count": 6,
     "metadata": {},
     "output_type": "execute_result"
    }
   ],
   "source": [
    "#  Multiple Inheritance\n",
    "class Mother:\n",
    "    def __init__(self, name: str)->None:\n",
    "        self.name:str = name\n",
    "        self.eye_color:str =\"blue\"\n",
    "\n",
    "    def speaking(self, words: str)->str:\n",
    "        return f\"Mother speaking function {words} \"\n",
    "    \n",
    "class Father:\n",
    "    def __init__(self, name: str) -> None:\n",
    "        self.name :str = name\n",
    "        self.height : str = \"6 feet\"\n",
    "\n",
    "    def speaking(self, words: str)->str:\n",
    "        return f\"Father speaking function {words} \"\n",
    "\n",
    "\n",
    "class Child(Father, Mother):\n",
    "    def __init__(self, mother_name: str, father_name: str, child_name: str ) -> None:\n",
    "        Mother.__init__(self, mother_name)\n",
    "        Father.__init__(self, father_name)\n",
    "        self.child_name : str = child_name\n",
    "\n",
    "partab : Child = Child(\"Chanda\", \"Laljee\", \"Partab Raj\")\n",
    "\n",
    "print(f\"object height {partab.height} \")\n",
    "print(f\"object eye color {partab.eye_color} \") \n",
    "partab.speaking(\"Pakistan Zindabad\")"
   ]
  },
  {
   "cell_type": "markdown",
   "metadata": {},
   "source": [
    "## Overloading"
   ]
  },
  {
   "cell_type": "code",
   "execution_count": 7,
   "metadata": {},
   "outputs": [
    {
     "name": "stdout",
     "output_type": "stream",
     "text": [
      "10.0\n",
      "10\n"
     ]
    }
   ],
   "source": [
    "from ast import Add\n",
    "\n",
    "class Adder:\n",
    "    def add(self, x: int, y: int)-> int:\n",
    "        return x + y\n",
    "    \n",
    "    def add(self, x: float, y: float)-> float:\n",
    "        return x + y\n",
    "    \n",
    "obj: Adder = Adder()\n",
    "print(obj.add(7.0,3.0))\n",
    "print(obj.add(7,3))\n",
    "       \n"
   ]
  },
  {
   "cell_type": "markdown",
   "metadata": {},
   "source": [
    "# overload function, mean same name function, perform multiple behaviours"
   ]
  },
  {
   "cell_type": "markdown",
   "metadata": {},
   "source": [
    "# overloading for functions"
   ]
  },
  {
   "cell_type": "code",
   "execution_count": 9,
   "metadata": {},
   "outputs": [],
   "source": [
    "from typing import Union, overload\n",
    "\n",
    "@overload\n",
    "def add(x: int, y: int) -> int:\n",
    "    ...\n",
    "\n",
    "@overload\n",
    "def add(x: float, y: float) -> float:\n",
    "    ...\n",
    "\n",
    "@overload\n",
    "def add(x: str, y: str) -> str:\n",
    "    ...\n",
    "\n",
    "def add(x: Union[int, float,str], y: Union[int, float, str]) -> Union[int,float,str]:\n",
    "    if isinstance(x, int) and isinstance(y, int):\n",
    "        return x + y\n",
    "    elif isinstance(x, str) and isinstance(y, str):\n",
    "        return x + y\n",
    "    elif isinstance(x, float) and isinstance(y, float):\n",
    "        return x + y\n",
    "    else:\n",
    "        raise TypeError(\"Invalid argument type\")\n",
    "        \n",
    "\n",
    "# usage example\n",
    "    result1 = add(1,2) # should return 3\n",
    "    result2 = add(1.5,3.5) # should return 4.0\n",
    "    return3 = add(\"Helllo\",\"world\") # should return hello world\n",
    "\n"
   ]
  },
  {
   "cell_type": "code",
   "execution_count": 10,
   "metadata": {},
   "outputs": [
    {
     "name": "stdout",
     "output_type": "stream",
     "text": [
      "6\n",
      "15\n"
     ]
    }
   ],
   "source": [
    "def my_sum(*nums:int)->int:\n",
    "    total = int = 0\n",
    "    for i in nums:\n",
    "        total += i\n",
    "    return total\n",
    "\n",
    "print(my_sum(1,2,3))\n",
    "print(my_sum(3,3,3,3,3,))\n"
   ]
  },
  {
   "cell_type": "markdown",
   "metadata": {},
   "source": [
    "# overiding and polymorphism\n",
    "    * overiding, parent class object\n",
    "    * polymorphism, we create animal function and pass the value under bird\n",
    "    "
   ]
  },
  {
   "cell_type": "code",
   "execution_count": 11,
   "metadata": {},
   "outputs": [
    {
     "name": "stdout",
     "output_type": "stream",
     "text": [
      "Bird is eating bread\n"
     ]
    }
   ],
   "source": [
    "class Animal():\n",
    "    def eating(self, food: str)-> None:\n",
    "        print(f\"Animal is eating {food}\")\n",
    "\n",
    "class Bird(Animal):\n",
    "    def eating(self, food: str)-> None:\n",
    "        print(f\"Bird is eating {food}\")\n",
    "\n",
    "bird : Bird = Bird()\n",
    "bird.eating(\"bread\")\n"
   ]
  },
  {
   "cell_type": "code",
   "execution_count": 12,
   "metadata": {},
   "outputs": [
    {
     "name": "stdout",
     "output_type": "stream",
     "text": [
      "Bird is eating bread\n",
      "Animal is eating Grass\n"
     ]
    }
   ],
   "source": [
    "class Animal():\n",
    "    def eating(self, food: str)-> None:\n",
    "        print(f\"Animal is eating {food}\")\n",
    "\n",
    "class Bird(Animal):\n",
    "    def eating(self, food: str)-> None:\n",
    "        print(f\"Bird is eating {food}\")\n",
    "\n",
    "bird : Bird = Bird()\n",
    "bird.eating(\"bread\")\n",
    "\n"
   ]
  },
  {
   "cell_type": "markdown",
   "metadata": {},
   "source": [
    "# Polymorphism"
   ]
  },
  {
   "cell_type": "code",
   "execution_count": 14,
   "metadata": {},
   "outputs": [
    {
     "name": "stdout",
     "output_type": "stream",
     "text": [
      "Bird is eating Grass\n"
     ]
    }
   ],
   "source": [
    "animal : Animal = Bird()\n",
    "animal.eating(\"Grass\")"
   ]
  },
  {
   "cell_type": "code",
   "execution_count": 15,
   "metadata": {},
   "outputs": [
    {
     "name": "stdout",
     "output_type": "stream",
     "text": [
      "Animal is eating Grass\n"
     ]
    }
   ],
   "source": [
    "animal : Animal = Animal()\n",
    "animal.eating(\"Grass\")"
   ]
  }
 ],
 "metadata": {
  "kernelspec": {
   "display_name": "python12",
   "language": "python",
   "name": "python3"
  },
  "language_info": {
   "codemirror_mode": {
    "name": "ipython",
    "version": 3
   },
   "file_extension": ".py",
   "mimetype": "text/x-python",
   "name": "python",
   "nbconvert_exporter": "python",
   "pygments_lexer": "ipython3",
   "version": "3.12.0"
  }
 },
 "nbformat": 4,
 "nbformat_minor": 2
}
