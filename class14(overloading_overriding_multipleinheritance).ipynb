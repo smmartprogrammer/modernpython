{
 "cells": [
  {
   "cell_type": "markdown",
   "metadata": {},
   "source": [
    "# Multiple Inheritance"
   ]
  },
  {
   "cell_type": "code",
   "execution_count": null,
   "metadata": {},
   "outputs": [],
   "source": [
    "# Multiple Inheritance\n",
    "class Mother:\n",
    "    def __init__(self, name: str)->None:\n",
    "        self.name:str = name\n",
    "        self.eye_color:str =\"blue\"\n",
    "\n",
    "    def speaking(self, words: str)->str:\n",
    "        return f\"Mother speaking function\"\n",
    "    \n",
    "class Father:\n",
    "    def __init__(self, name: str) -> None:\n",
    "        self.name :str = name\n",
    "        self.height : str = \"6 feet\"\n",
    "\n",
    "class Child(Mother, Father):\n",
    "    "
   ]
  }
 ],
 "metadata": {
  "language_info": {
   "name": "python"
  }
 },
 "nbformat": 4,
 "nbformat_minor": 2
}
