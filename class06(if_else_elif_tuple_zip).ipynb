{
 "cells": [
  {
   "cell_type": "code",
   "execution_count": 1,
   "metadata": {},
   "outputs": [
    {
     "name": "stdout",
     "output_type": "stream",
     "text": [
      "raghunathji\n"
     ]
    }
   ],
   "source": [
    "print(\"raghunathji\")\n",
    "\n",
    "https://peps.python.org/pep-0484/#callable"
   ]
  },
  {
   "cell_type": "markdown",
   "metadata": {},
   "source": [
    "# if else elif\n",
    "\n",
    "```\n",
    "if logic:\n",
    "    True_block\n",
    "else:\n",
    "    False_block\n",
    "```\n",
    "\n",
    "# Comprehensive if else elif\n",
    "\n",
    "```\n",
    "    True_block if logic else False_block\n",
    "```\n",
    "\n",
    "* if\n",
    "* if else\n",
    "* if_elif_else\n",
    "\n"
   ]
  },
  {
   "cell_type": "code",
   "execution_count": 3,
   "metadata": {},
   "outputs": [
    {
     "name": "stdout",
     "output_type": "stream",
     "text": [
      "Pakistan Zindabad\n"
     ]
    }
   ],
   "source": [
    "if True:\n",
    "    print(\"Pakistan Zindabad\")\n",
    "else:\n",
    "    print(\"Pakistan Paiendabad\")"
   ]
  },
  {
   "cell_type": "code",
   "execution_count": 6,
   "metadata": {},
   "outputs": [
    {
     "name": "stdout",
     "output_type": "stream",
     "text": [
      "Pakistan Paiendabad\n"
     ]
    }
   ],
   "source": [
    "if False:\n",
    "    print(\"Pakistan Zindabad\")\n",
    "else:\n",
    "    print(\"Pakistan Paiendabad\")"
   ]
  },
  {
   "cell_type": "code",
   "execution_count": 7,
   "metadata": {},
   "outputs": [
    {
     "name": "stdout",
     "output_type": "stream",
     "text": [
      "Pakistan Paiendabad\n"
     ]
    }
   ],
   "source": [
    "# true_block                logic          false_block\n",
    "print(\"Pakistan Zindabad\") if False else print(\"Pakistan Paiendabad\")"
   ]
  },
  {
   "cell_type": "code",
   "execution_count": 8,
   "metadata": {},
   "outputs": [
    {
     "name": "stdout",
     "output_type": "stream",
     "text": [
      "Pakistan Zindabad\n"
     ]
    }
   ],
   "source": [
    "# true_block                logic          false_block\n",
    "print(\"Pakistan Zindabad\") if True else print(\"Pakistan Paiendabad\")"
   ]
  },
  {
   "cell_type": "markdown",
   "metadata": {},
   "source": [
    "# compression operator\n",
    "    \n",
    "    * ==\n",
    "    * >=\n",
    "    * <=\n",
    "    * !==\n",
    "    ## logic\n",
    "    * and\n",
    "    * or\n",
    "    * not\n",
    "    \n",
    "    "
   ]
  },
  {
   "cell_type": "code",
   "execution_count": 9,
   "metadata": {},
   "outputs": [
    {
     "name": "stdout",
     "output_type": "stream",
     "text": [
      " True Pakistan Block \n",
      "1\n",
      "2\n"
     ]
    }
   ],
   "source": [
    "if True:\n",
    "    print(\" True Pakistan Block \")\n",
    "\n",
    "print(\"1\")\n",
    "print(\"2\")\n"
   ]
  },
  {
   "cell_type": "code",
   "execution_count": 10,
   "metadata": {},
   "outputs": [
    {
     "name": "stdout",
     "output_type": "stream",
     "text": [
      "1\n",
      "2\n"
     ]
    }
   ],
   "source": [
    "if False:\n",
    "    print(\" True Pakistan Block \")\n",
    "\n",
    "print(\"1\")\n",
    "print(\"2\")\n"
   ]
  },
  {
   "cell_type": "code",
   "execution_count": 11,
   "metadata": {},
   "outputs": [
    {
     "name": "stdout",
     "output_type": "stream",
     "text": [
      "True_block\n"
     ]
    }
   ],
   "source": [
    "if True:\n",
    "    print(\"True_block\")\n",
    "elif False:\n",
    "    print(\"elif logic1\")\n",
    "elif False:\n",
    "    print(\"elif logic2\")\n",
    "elif False:\n",
    "    print(\"elif logic3\")\n",
    "else:\n",
    "    print(\"final else block\")"
   ]
  },
  {
   "cell_type": "code",
   "execution_count": 12,
   "metadata": {},
   "outputs": [
    {
     "name": "stdout",
     "output_type": "stream",
     "text": [
      "elif logic1\n"
     ]
    }
   ],
   "source": [
    "if False:\n",
    "    print(\"True_block\")\n",
    "elif True:\n",
    "    print(\"elif logic1\")\n",
    "elif False:\n",
    "    print(\"elif logic2\")\n",
    "elif False:\n",
    "    print(\"elif logic3\")\n",
    "else:\n",
    "    print(\"final else block\")"
   ]
  },
  {
   "cell_type": "code",
   "execution_count": 13,
   "metadata": {},
   "outputs": [
    {
     "name": "stdout",
     "output_type": "stream",
     "text": [
      "elif logic2\n"
     ]
    }
   ],
   "source": [
    "if False:\n",
    "    print(\"True_block\")\n",
    "elif False:\n",
    "    print(\"elif logic1\")\n",
    "elif True:\n",
    "    print(\"elif logic2\")\n",
    "elif False:\n",
    "    print(\"elif logic3\")\n",
    "else:\n",
    "    print(\"final else block\")"
   ]
  },
  {
   "cell_type": "code",
   "execution_count": 14,
   "metadata": {},
   "outputs": [
    {
     "name": "stdout",
     "output_type": "stream",
     "text": [
      "elif logic3\n"
     ]
    }
   ],
   "source": [
    "if False:\n",
    "    print(\"True_block\")\n",
    "elif False:\n",
    "    print(\"elif logic1\")\n",
    "elif False:\n",
    "    print(\"elif logic2\")\n",
    "elif True:\n",
    "    print(\"elif logic3\")\n",
    "else:\n",
    "    print(\"final else block\")"
   ]
  },
  {
   "cell_type": "code",
   "execution_count": 15,
   "metadata": {},
   "outputs": [
    {
     "name": "stdout",
     "output_type": "stream",
     "text": [
      "final else block\n"
     ]
    }
   ],
   "source": [
    "if False:\n",
    "    print(\"True_block\")\n",
    "elif False:\n",
    "    print(\"elif logic1\")\n",
    "elif False:\n",
    "    print(\"elif logic2\")\n",
    "elif False:\n",
    "    print(\"elif logic3\")\n",
    "else:\n",
    "    print(\"final else block\")"
   ]
  },
  {
   "cell_type": "code",
   "execution_count": 16,
   "metadata": {},
   "outputs": [
    {
     "name": "stdout",
     "output_type": "stream",
     "text": [
      "elif logic2\n",
      "Pakistan Zindabad\n"
     ]
    }
   ],
   "source": [
    "if False:\n",
    "    print(\"True_block\")\n",
    "elif False:\n",
    "    print(\"elif logic1\")\n",
    "elif True:\n",
    "    print(\"elif logic2\")\n",
    "elif True:\n",
    "    print(\"elif logic3\")\n",
    "else:\n",
    "    print(\"final else block\")\n",
    "    \n",
    "print(\"Pakistan Zindabad\")"
   ]
  },
  {
   "cell_type": "code",
   "execution_count": 18,
   "metadata": {},
   "outputs": [
    {
     "name": "stdout",
     "output_type": "stream",
     "text": [
      "elif logic2\n",
      "final else block\n",
      "Pakistan Zindabad\n"
     ]
    }
   ],
   "source": [
    "# chain1 run only one block\n",
    "if False:\n",
    "    print(\"True_block\")\n",
    "elif False:\n",
    "    print(\"elif logic1\")\n",
    "elif True:\n",
    "    print(\"elif logic2\")\n",
    "elif True:\n",
    "    print(\"elif logic3\")\n",
    "else:\n",
    "    print(\"final else block\")\n",
    "\n",
    "# chain2 run only one block\n",
    "if False:\n",
    "    print(\"True_block\")\n",
    "elif False:\n",
    "    print(\"elif logic1\")\n",
    "elif False:\n",
    "    print(\"elif logic2\")\n",
    "elif False:\n",
    "    print(\"elif logic3\")\n",
    "else:\n",
    "    print(\"final else block\")\n",
    "    \n",
    "print(\"Pakistan Zindabad\")"
   ]
  },
  {
   "cell_type": "markdown",
   "metadata": {},
   "source": [
    "# Grading Rule example"
   ]
  },
  {
   "cell_type": "code",
   "execution_count": 22,
   "metadata": {},
   "outputs": [
    {
     "name": "stdout",
     "output_type": "stream",
     "text": [
      "enter your percentage:\t75\n",
      "<class 'int'>\n"
     ]
    }
   ],
   "source": [
    "a = int(input(\"enter your percentage:\\t\"))\n",
    "print(type(a))"
   ]
  },
  {
   "cell_type": "code",
   "execution_count": 24,
   "metadata": {},
   "outputs": [
    {
     "name": "stdout",
     "output_type": "stream",
     "text": [
      "Please enter your percentage:\t 75\n",
      "Dear Student your percentage is 75 now your calculated grade is:\t A \n"
     ]
    }
   ],
   "source": [
    "from typing import Union, Optional\n",
    "\n",
    "per : Union[int, float] = int(input(\"Please enter your percentage:\\t \"))\n",
    "grade : Optional[str] = None\n",
    "\n",
    "if per >= 80:\n",
    "    grade = \"A+\"\n",
    "elif per >= 70:\n",
    "    grade = \"A\"\n",
    "elif per >= 60:\n",
    "    grade = \"B\"\n",
    "elif per >= 50:\n",
    "    grade = \"C\"\n",
    "elif per >= 40:\n",
    "    grade = \"D\"\n",
    "elif per >= 33:\n",
    "    grade = \"E\"\n",
    "else :\n",
    "    grade = \"F\"\n",
    "\n",
    "print(f\"Dear Student your percentage is {per} now your calculated grade is:\\t {grade} \" )"
   ]
  },
  {
   "cell_type": "code",
   "execution_count": 25,
   "metadata": {},
   "outputs": [],
   "source": [
    "#logical error"
   ]
  },
  {
   "cell_type": "code",
   "execution_count": 26,
   "metadata": {},
   "outputs": [
    {
     "name": "stdout",
     "output_type": "stream",
     "text": [
      "Please enter your percentage:\t 99\n",
      "Dear Student your percentage is 99 now your calculated grade is:\t Fail \n"
     ]
    }
   ],
   "source": [
    "from typing import Union, Optional\n",
    "\n",
    "per : Union[int, float] = int(input(\"Please enter your percentage:\\t \"))\n",
    "grade : Optional[str] = None\n",
    "\n",
    "if per >= 0:\n",
    "    grade = \"Fail\"\n",
    "elif per >= 33:\n",
    "    grade = \"E\"\n",
    "elif per >= 40:\n",
    "    grade = \"D\"\n",
    "elif per >= 50:\n",
    "    grade = \"C\"\n",
    "elif per >= 60:\n",
    "    grade = \"B\"\n",
    "elif per >= 70:\n",
    "    grade = \"A\"\n",
    "else :\n",
    "    grade = \"A+\"\n",
    "\n",
    "print(f\"Dear Student your percentage is {per} now your calculated grade is:\\t {grade} \" )"
   ]
  },
  {
   "cell_type": "code",
   "execution_count": null,
   "metadata": {},
   "outputs": [],
   "source": []
  }
 ],
 "metadata": {
  "kernelspec": {
   "display_name": "Python 3 (ipykernel)",
   "language": "python",
   "name": "python3"
  },
  "language_info": {
   "codemirror_mode": {
    "name": "ipython",
    "version": 3
   },
   "file_extension": ".py",
   "mimetype": "text/x-python",
   "name": "python",
   "nbconvert_exporter": "python",
   "pygments_lexer": "ipython3",
   "version": "3.11.5"
  }
 },
 "nbformat": 4,
 "nbformat_minor": 2
}
