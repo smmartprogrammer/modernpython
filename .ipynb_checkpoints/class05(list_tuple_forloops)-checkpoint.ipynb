{
 "cells": [
  {
   "cell_type": "markdown",
   "id": "270d500f",
   "metadata": {},
   "source": [
    "# list \n",
    "* iteration operation with loop\n",
    "* apply any operation on element\n",
    "\n"
   ]
  },
  {
   "cell_type": "code",
   "execution_count": 2,
   "id": "81f791ac",
   "metadata": {},
   "outputs": [
    {
     "name": "stdout",
     "output_type": "stream",
     "text": [
      "['Sir Zia', 'Muhammad Qasim', 'Dr. Noman']\n"
     ]
    }
   ],
   "source": [
    "names : list[str] = ['Sir Zia', 'Muhammad Qasim', 'Dr. Noman']\n",
    "print(names)"
   ]
  },
  {
   "cell_type": "code",
   "execution_count": 5,
   "id": "5c298dc5",
   "metadata": {},
   "outputs": [
    {
     "name": "stdout",
     "output_type": "stream",
     "text": [
      "Sir Zia\n",
      "Muhammad Qasim\n",
      "Dr. Noman\n"
     ]
    }
   ],
   "source": [
    "# new iteration easy method / process\n",
    "\n",
    "names : list[str] = ['Sir Zia', 'Muhammad Qasim', 'Dr. Noman']\n",
    "\n",
    "for name in names:\n",
    "   # print('Dr. Noman')\n",
    "    print(name)"
   ]
  },
  {
   "cell_type": "code",
   "execution_count": 6,
   "id": "3d86438f",
   "metadata": {},
   "outputs": [
    {
     "name": "stdout",
     "output_type": "stream",
     "text": [
      "Sir Zia\n",
      "Muhammad Qasim\n",
      "Dr. Noman\n"
     ]
    }
   ],
   "source": [
    "# old method for iteration which very lengthy\n",
    "names : list[str] = ['Sir Zia', 'Muhammad Qasim', 'Dr. Noman']\n",
    "i :int = 0 # counter = 0\n",
    "\n",
    "while i<len(names): # names length =3\n",
    "    print(names[i])\n",
    "    i += 1"
   ]
  },
  {
   "cell_type": "markdown",
   "id": "b35c78d8",
   "metadata": {},
   "source": [
    "```\n",
    "for loop method in javascript, just for understanding that even java has lengthy option, but python has made it easier\n",
    "\n",
    "names = name =  ['Sir Zia', 'Muhammad Qasim', 'Dr. Noman']\n",
    "\n",
    "    for (i=0; i<length(names); i++{\n",
    "    names[i]}\n",
    "    \n",
    "\n",
    "```"
   ]
  },
  {
   "cell_type": "code",
   "execution_count": 11,
   "id": "902e1c33",
   "metadata": {},
   "outputs": [
    {
     "name": "stdout",
     "output_type": "stream",
     "text": [
      "Welcome Dear Teacher Sir Zia\n",
      "PIAIC Gen AI Team\n",
      "\n",
      "Welcome Dear Teacher Muhammad Qasim\n",
      "PIAIC Gen AI Team\n",
      "\n",
      "Welcome Dear Teacher Dr. Noman\n",
      "PIAIC Gen AI Team\n",
      "\n",
      "Pakistan Zindabad\n"
     ]
    }
   ],
   "source": [
    "for name in names:\n",
    "    print(f'Welcome Dear Teacher {name.title()}')\n",
    "    print(\"PIAIC Gen AI Team\\n\")\n",
    "    \n",
    "print(\"Pakistan Zindabad\")"
   ]
  },
  {
   "cell_type": "code",
   "execution_count": 13,
   "id": "a6b05c95",
   "metadata": {},
   "outputs": [
    {
     "name": "stdout",
     "output_type": "stream",
     "text": [
      "('qasim', '1234')\n",
      "('Sir Zia', '345')\n",
      "('ikhlas', '786')\n"
     ]
    }
   ],
   "source": [
    "data_base : list[tuple[str,str]] = [(\"qasim\", '1234'), (\"Sir Zia\", '345'), (\"ikhlas\",'786')]\n",
    "    \n",
    "for row in data_base:\n",
    "        print(row)"
   ]
  },
  {
   "cell_type": "code",
   "execution_count": 14,
   "id": "65b06af5",
   "metadata": {},
   "outputs": [
    {
     "name": "stdout",
     "output_type": "stream",
     "text": [
      "qasim 1234\n",
      "Sir Zia 345\n",
      "ikhlas 786\n"
     ]
    }
   ],
   "source": [
    "data_base : list[tuple[str,str]] = [(\"qasim\", '1234'), (\"Sir Zia\", '345'), (\"ikhlas\",'786')]\n",
    "    \n",
    "for row in data_base:\n",
    "    user, password = row\n",
    "    print(user, password )\n",
    "    "
   ]
  },
  {
   "cell_type": "code",
   "execution_count": 15,
   "id": "334e4718",
   "metadata": {},
   "outputs": [
    {
     "name": "stdout",
     "output_type": "stream",
     "text": [
      "Enter user nameRaghunathji\n"
     ]
    }
   ],
   "source": [
    "#input_user :str = input(\"Enter user name\") "
   ]
  },
  {
   "cell_type": "code",
   "execution_count": null,
   "id": "aa2c3dcb",
   "metadata": {},
   "outputs": [],
   "source": [
    "data_base : list[tuple[str,str]] =  [(\"qasim\", '1234'),\n",
    "                                     (\"Sir Zia\", '345'),\n",
    "                                     (\"ikhlas\",'786')\n",
    "                                    ]\n",
    "    \n",
    "input_user : str = input(\"Enter user name\")     \n",
    "input_password : str = input(\"Enter user password\")     \n",
    "    \n",
    "for row in data_base:\n",
    "    user, password = row\n",
    "    if input_user == user and input_password == password:\n",
    "        print(\"Valid User\")\n",
    "        break\n",
    "else: \n",
    "    print(\"Not found or Invalid user name\")\n",
    "        #    print(input_user, input_password )\n"
   ]
  },
  {
   "cell_type": "code",
   "execution_count": null,
   "id": "7a0e5bda",
   "metadata": {},
   "outputs": [],
   "source": [
    "magicians: list[str] = ['alice', 'david', 'carolin' ]\n",
    "for magician in magicians:\n",
    "    print(f\"{magician.title()}, what was a great tricks!\")\n",
    "        \n",
    "print(f\"I can't wait to see your next tricks, {magician.title()}.\\n\")"
   ]
  },
  {
   "cell_type": "markdown",
   "id": "6d0add9f",
   "metadata": {},
   "source": [
    "#Number with Loop\n",
    "\n",
    "* range(start,end,step)"
   ]
  },
  {
   "cell_type": "code",
   "execution_count": null,
   "id": "5a26d1d2",
   "metadata": {},
   "outputs": [],
   "source": [
    "print(\"raghunathji\")"
   ]
  },
  {
   "cell_type": "code",
   "execution_count": null,
   "id": "16290d26",
   "metadata": {},
   "outputs": [],
   "source": []
  }
 ],
 "metadata": {
  "kernelspec": {
   "display_name": "Python 3 (ipykernel)",
   "language": "python",
   "name": "python3"
  },
  "language_info": {
   "codemirror_mode": {
    "name": "ipython",
    "version": 3
   },
   "file_extension": ".py",
   "mimetype": "text/x-python",
   "name": "python",
   "nbconvert_exporter": "python",
   "pygments_lexer": "ipython3",
   "version": "3.11.5"
  }
 },
 "nbformat": 4,
 "nbformat_minor": 5
}
