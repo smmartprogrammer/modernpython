{
 "cells": [
  {
   "cell_type": "markdown",
   "metadata": {},
   "source": [
    "# function\n",
    "* pre define function\n",
    "    * provided by in language\n",
    "* User defined function\n",
    "    * custom function\n",
    "## similar properties on both typed\n",
    "* Return and non-returning function\n",
    "    * Return Function\n",
    "        * we can assign this function output in any variable\n",
    "    * Non Return Function\n",
    "        * only run we cant assign value to variable\n",
    "\n",
    "## components\n",
    "* function declaration\n",
    "    * function name\n",
    "    * parameters\n",
    "        * params : type\n",
    "    * return output type\n",
    "\n",
    "* function body\n",
    "    * any business logic, write here\n",
    "* function calling  \n",
    "    * function(arg1, arg2)\n",
    "\n",
    "# Syntax function\n",
    "\n",
    "def function_name(param1: type, param2: type,...)-> Return_type: # declaration\n",
    "    function_body => bbody\n",
    "\n",
    "function_name(arg1, arg2) = > calling\n",
    "\n",
    "## syntax lambda function\n",
    "* one line function\n",
    "* without name\n",
    "* only use in this line only\n",
    "\n",
    "lambda (param1: type, param2: function_body\n",
    "\n",
    "function_name(arg1, arg2) = > calling\n"
   ]
  },
  {
   "cell_type": "markdown",
   "metadata": {},
   "source": [
    "# pre define function\n",
    "\n",
    "* print\n",
    "* len\n",
    "* dir\n",
    "* id\n",
    "* chr\n",
    "* ord\n",
    "* exec "
   ]
  },
  {
   "cell_type": "markdown",
   "metadata": {},
   "source": [
    "# difference between return and non return functions\n"
   ]
  },
  {
   "cell_type": "code",
   "execution_count": 1,
   "metadata": {},
   "outputs": [
    {
     "name": "stdout",
     "output_type": "stream",
     "text": [
      "Pakistan\n"
     ]
    },
    {
     "data": {
      "text/plain": [
       "None"
      ]
     },
     "metadata": {},
     "output_type": "display_data"
    }
   ],
   "source": [
    "# variable.method_name()\n",
    "a : str = print(\"Pakistan\") # a = \"Pakistan\" | none # it is non return function\n",
    "display(a)"
   ]
  },
  {
   "cell_type": "code",
   "execution_count": 2,
   "metadata": {},
   "outputs": [
    {
     "data": {
      "text/plain": [
       "8"
      ]
     },
     "metadata": {},
     "output_type": "display_data"
    }
   ],
   "source": [
    "a : int = len(\"Pakistan\") # a = 8 return # its a returning function\n",
    "\n",
    "display(a)"
   ]
  },
  {
   "cell_type": "markdown",
   "metadata": {},
   "source": [
    "# create any function without any arguments(default function)"
   ]
  },
  {
   "cell_type": "code",
   "execution_count": 5,
   "metadata": {},
   "outputs": [
    {
     "name": "stdout",
     "output_type": "stream",
     "text": [
      "PIAIC GENERATIVE Artificial Intelegence\n",
      "PIAIC Python Crash Course\n"
     ]
    }
   ],
   "source": [
    "def piaic()-> None:# declaration/ function signature\n",
    "    # function body start\n",
    "    print(\"PIAIC GENERATIVE Artificial Intelegence\") # statement\n",
    "    print(\"PIAIC Python Crash Course\") # statement2\n",
    "    # function body end\n",
    "\n",
    "\n",
    "piaic()"
   ]
  },
  {
   "cell_type": "code",
   "execution_count": 4,
   "metadata": {},
   "outputs": [
    {
     "name": "stdout",
     "output_type": "stream",
     "text": [
      "PIAIC GENERATIVE AI\n",
      "PIAIC Python Crash Course\n"
     ]
    }
   ],
   "source": [
    "piaic()"
   ]
  },
  {
   "cell_type": "code",
   "execution_count": null,
   "metadata": {},
   "outputs": [],
   "source": [
    "#                   parameter1, param1 paramater2 param2 \n",
    "def add_two_numbers(num1 : int, num2 : int)->int:\n",
    "    return num1 + num2\n",
    "\n",
    "add_two_numbers(25,20) # argumants arg1, argument arg2"
   ]
  },
  {
   "cell_type": "markdown",
   "metadata": {},
   "source": [
    "# funtion with optional parameters"
   ]
  },
  {
   "cell_type": "code",
   "execution_count": 8,
   "metadata": {},
   "outputs": [
    {
     "name": "stdout",
     "output_type": "stream",
     "text": [
      "9\n"
     ]
    },
    {
     "data": {
      "text/plain": [
       "9"
      ]
     },
     "execution_count": 8,
     "metadata": {},
     "output_type": "execute_result"
    }
   ],
   "source": [
    "def add_two_numbers(num1 : int, num2 : int = 0)->int:\n",
    "    print(num1 + num2)\n",
    "    return num1 + num2\n",
    "\n",
    "add_two_numbers(7, 2) # argumants arg1, argument"
   ]
  },
  {
   "cell_type": "code",
   "execution_count": 33,
   "metadata": {},
   "outputs": [
    {
     "name": "stdout",
     "output_type": "stream",
     "text": [
      "num1 value 7 and num2 value 2\n"
     ]
    },
    {
     "data": {
      "text/plain": [
       "9"
      ]
     },
     "execution_count": 33,
     "metadata": {},
     "output_type": "execute_result"
    }
   ],
   "source": [
    "#                     param1      param2\n",
    "def add_two_numbers(num1 : int, num2 : int = 0)->int:\n",
    "    print(f\"num1 value {num1} and num2 value {num2}\")\n",
    "          \n",
    "    return num1 + num2\n",
    "\n",
    "add_two_numbers(7, 2) # argumants arg1, positional argument"
   ]
  },
  {
   "cell_type": "code",
   "execution_count": 34,
   "metadata": {},
   "outputs": [
    {
     "name": "stdout",
     "output_type": "stream",
     "text": [
      "num1 value 12 and num2 value 27\n"
     ]
    },
    {
     "data": {
      "text/plain": [
       "39"
      ]
     },
     "execution_count": 34,
     "metadata": {},
     "output_type": "execute_result"
    }
   ],
   "source": [
    "#                     param1      param2\n",
    "def add_two_numbers(num1 : int, num2 : int = 0)->int:\n",
    "    print(f\"num1 value {num1} and num2 value {num2}\")\n",
    "          \n",
    "    return num1 + num2\n",
    "\n",
    "add_two_numbers(num2=27, num1=12) # argumants arg1, keyword argument"
   ]
  },
  {
   "cell_type": "markdown",
   "metadata": {},
   "source": [
    "## syntax lambda function\n",
    "* one line function\n",
    "* without name\n",
    "* only use in this line only\n",
    "\n",
    "lambda (param1: type, param2: function_body\n",
    "\n",
    "function_name(arg1, arg2) = > calling\n"
   ]
  },
  {
   "cell_type": "code",
   "execution_count": null,
   "metadata": {},
   "outputs": [],
   "source": []
  },
  {
   "cell_type": "code",
   "execution_count": 9,
   "metadata": {},
   "outputs": [
    {
     "data": {
      "text/plain": [
       "16"
      ]
     },
     "execution_count": 9,
     "metadata": {},
     "output_type": "execute_result"
    }
   ],
   "source": [
    "a = lambda num1, num2 : num1 + num2\n",
    "a(7,9)"
   ]
  },
  {
   "cell_type": "code",
   "execution_count": 10,
   "metadata": {},
   "outputs": [
    {
     "data": {
      "text/plain": [
       "[1, 4, 9, 16, 25, 36, 49, 64, 81, 100]"
      ]
     },
     "execution_count": 10,
     "metadata": {},
     "output_type": "execute_result"
    }
   ],
   "source": [
    "data : list[int] = [1,2,3,4,5,6,7,8,9,10]\n",
    "\n",
    "data = list(map(lambda x:x**2, data))\n",
    "\n",
    "data"
   ]
  },
  {
   "cell_type": "code",
   "execution_count": 14,
   "metadata": {},
   "outputs": [
    {
     "data": {
      "text/plain": [
       "[2, 4, 6, 8, 10]"
      ]
     },
     "execution_count": 14,
     "metadata": {},
     "output_type": "execute_result"
    }
   ],
   "source": [
    "data : list[int] = [1,2,3,4,5,6,7,8,9,10]\n",
    "\n",
    "data = list(filter(lambda x:x%2==0 ,data))\n",
    "\n",
    "data "
   ]
  },
  {
   "cell_type": "code",
   "execution_count": 15,
   "metadata": {},
   "outputs": [
    {
     "name": "stdout",
     "output_type": "stream",
     "text": [
      "30\n"
     ]
    }
   ],
   "source": [
    "from typing import Callable\n",
    "\n",
    "add: Callable[[int, int], int] = lambda x, y: x + y\n",
    "result = add(10,20) # result will be 30\n",
    "print(result)"
   ]
  },
  {
   "cell_type": "markdown",
   "metadata": {},
   "source": [
    "## Generator Function"
   ]
  },
  {
   "cell_type": "code",
   "execution_count": 19,
   "metadata": {},
   "outputs": [
    {
     "name": "stdout",
     "output_type": "stream",
     "text": [
      "<generator object my_range at 0x0000022E60BD33D0>\n",
      "[1, 2, 3, 4, 5, 6, 7, 8, 9, 10]\n"
     ]
    }
   ],
   "source": [
    "def my_range(start:int, end:int, step:int=1):\n",
    "    for i in range(start, end+1, step):\n",
    "        yield i # Generator function\n",
    "\n",
    "a = my_range(1,10)\n",
    "print(a)\n",
    "print(list(a))\n"
   ]
  },
  {
   "cell_type": "code",
   "execution_count": 22,
   "metadata": {},
   "outputs": [
    {
     "name": "stdout",
     "output_type": "stream",
     "text": [
      "<generator object my_range at 0x0000022E60BD35B0>\n",
      "1\n",
      "2\n",
      "3\n",
      "Pakistan\n",
      "4\n"
     ]
    }
   ],
   "source": [
    "a = my_range(1,10)\n",
    "print(a)\n",
    "print(next(a))\n",
    "print(next(a))\n",
    "print(next(a))\n",
    "print(\"Pakistan\")\n",
    "print(next(a))\n",
    "\n",
    "\n"
   ]
  },
  {
   "cell_type": "code",
   "execution_count": 23,
   "metadata": {},
   "outputs": [],
   "source": [
    "from collections.abc import Iterator\n",
    "\n",
    "MyDict = dict[str, object] # for example\n",
    "\n",
    "def yield_func() -> Iterator[MyDict]:\n",
    "    a: MyDict = {}\n",
    "    b: MyDict = {}\n",
    "\n",
    "    ...\n",
    "    yield a\n",
    "    yield b\n",
    "\n"
   ]
  },
  {
   "cell_type": "code",
   "execution_count": 25,
   "metadata": {},
   "outputs": [
    {
     "name": "stdout",
     "output_type": "stream",
     "text": [
      "<class 'generator'>\n",
      "1\n",
      "2\n"
     ]
    }
   ],
   "source": [
    "from collections.abc import Iterator\n",
    "\n",
    "def my_range(start:int, end:int, step:int=1)->Iterator[int]:\n",
    "    for i in range(start, end+1, step):\n",
    "        yield i # Generator function\n",
    "\n",
    "a : Iterator[int]= my_range(1,10)\n",
    "print(type(a))\n",
    "print(next(a))\n",
    "print(next(a))\n"
   ]
  },
  {
   "cell_type": "code",
   "execution_count": 27,
   "metadata": {},
   "outputs": [
    {
     "name": "stdout",
     "output_type": "stream",
     "text": [
      "3\n",
      "4\n",
      "5\n",
      "6\n",
      "7\n",
      "8\n",
      "9\n",
      "10\n"
     ]
    }
   ],
   "source": [
    "for i in a:\n",
    "    print(i)"
   ]
  },
  {
   "cell_type": "code",
   "execution_count": 28,
   "metadata": {},
   "outputs": [
    {
     "name": "stdout",
     "output_type": "stream",
     "text": [
      "<class 'generator'>\n",
      "1\n",
      "2\n"
     ]
    }
   ],
   "source": [
    "from collections.abc import Iterator\n",
    "\n",
    "def my_range(start:int, end:int, step:int=1)->Iterator[int]:\n",
    "    for i in range(start, end+1, step):\n",
    "        yield i # Generator function\n",
    "\n",
    "iteravable_variable : Iterator[int]= my_range(1,10)\n",
    "print(type(iteravable_variable))\n",
    "print(next(iteravable_variable))\n",
    "print(next(iteravable_variable))\n"
   ]
  },
  {
   "cell_type": "code",
   "execution_count": 29,
   "metadata": {},
   "outputs": [
    {
     "name": "stdout",
     "output_type": "stream",
     "text": [
      "2\n",
      "4\n"
     ]
    }
   ],
   "source": [
    "# generator function is used for big data, where the size of data is very huge, and it will hanged our \n",
    "# computer and spend 5 to 6 hhour, so we use generator function to run our programs in parts, so that,\n",
    "# our system can not beared the entire load of data\n",
    "data:list[int] = filter(lambda x:x%2==0 , range(1,101))\n",
    "print(next(data))\n",
    "print(next(data))"
   ]
  },
  {
   "cell_type": "markdown",
   "metadata": {},
   "source": [
    "# pass unlimited arguments"
   ]
  },
  {
   "cell_type": "code",
   "execution_count": 31,
   "metadata": {},
   "outputs": [
    {
     "name": "stdout",
     "output_type": "stream",
     "text": [
      "(1, 2, 3, 4, 5, 6) <class 'tuple'>\n"
     ]
    },
    {
     "data": {
      "text/plain": [
       "21"
      ]
     },
     "execution_count": 31,
     "metadata": {},
     "output_type": "execute_result"
    }
   ],
   "source": [
    "def abc(*nums):\n",
    "    print(nums, type(nums))\n",
    "    total = 0\n",
    "    for n in nums:\n",
    "        total += n\n",
    "    \n",
    "    return total\n",
    "\n",
    "abc(1,2,3,4,5,6)"
   ]
  },
  {
   "cell_type": "code",
   "execution_count": 35,
   "metadata": {},
   "outputs": [
    {
     "name": "stdout",
     "output_type": "stream",
     "text": [
      "{'a': 7, 'b': 8, 'c': 9, 'd': 10, 'name': 'Raghunathji'} <class 'dict'>\n"
     ]
    }
   ],
   "source": [
    "def xyz(**kargs):\n",
    "    print(kargs, type(kargs))\n",
    "\n",
    "xyz(a=7, b=8, c=9, d=10, name=\"Raghunathji\")"
   ]
  },
  {
   "cell_type": "code",
   "execution_count": 36,
   "metadata": {},
   "outputs": [
    {
     "name": "stdout",
     "output_type": "stream",
     "text": [
      "1 2 (7, 9, 9, 9) {'c': 20, 'd': 30, 'x': 100}\n"
     ]
    }
   ],
   "source": [
    "def my_function(a,b, *abc, **xyz):\n",
    "    print(a,b,abc, xyz)\n",
    "\n",
    "my_function(1,2,7,9,9,9, c=20, d=30, x=100)"
   ]
  },
  {
   "cell_type": "code",
   "execution_count": 38,
   "metadata": {},
   "outputs": [
    {
     "name": "stdout",
     "output_type": "stream",
     "text": [
      "Hello Monika\n",
      "Hello Luke\n",
      "Hello Steve\n",
      "Hello John\n"
     ]
    }
   ],
   "source": [
    "from typing import Tuple\n",
    "\n",
    "def greet(*names: tuple[str, ...]) -> None:\n",
    "    \"\"\"\n",
    "    This Function greets all persons in the names tuple.\n",
    "    \"\"\"\n",
    "    for name in names:\n",
    "        print(\"Hello\", name)\n",
    "\n",
    "greet(\"Monika\", \"Luke\", \"Steve\", \"John\")\n",
    "\n"
   ]
  },
  {
   "cell_type": "code",
   "execution_count": 41,
   "metadata": {},
   "outputs": [
    {
     "name": "stdout",
     "output_type": "stream",
     "text": [
      "1 2 (3, 9, 9) {'c': 20, 'd': 30, 'x': 100}\n"
     ]
    }
   ],
   "source": [
    "from typing import Tuple, Dict, Any\n",
    "def my_function(a:int , b:int , *abc:Tuple, **xyz:dict[str,int]) -> None:\n",
    "    print(a, b, abc, xyz)\n",
    "\n",
    "my_function(1, 2, 3, 9, 9,  c=20, d=30, x=100)\n",
    "          "
   ]
  },
  {
   "cell_type": "code",
   "execution_count": null,
   "metadata": {},
   "outputs": [],
   "source": [
    "from typing import Callable\n",
    "\n",
    "add: Callable[[int, int], int] = lambda x, y: x + y\n",
    "result = add(10,20) # result will be 30\n",
    "print(result)\n",
    "\n",
    "from typing import Tuple, Dict, Any\n",
    "def my_function(a:int , b:int , *abc:Tuple, **xyz:dict[str,int]) -> None:\n",
    "    print(a, b, abc, xyz)\n",
    "\n",
    "my_function(1, 2, 3, 9, 9,  c=20, d=30, x=100)\n",
    "          \n"
   ]
  },
  {
   "cell_type": "code",
   "execution_count": null,
   "metadata": {},
   "outputs": [],
   "source": [
    "from typing import Callable\n",
    "\n",
    "def decorator(func: Callable[[int], None]) -> Callable[[int], None]:\n",
    "    def wrapper(num1:int) -> None:\n",
    "        print(\"raghunathji before function called\")\n",
    "        func(num1)\n",
    "        print(\"raghunathji after function called\")\n",
    "    return wrapper\n",
    "\n",
    "@decorator\n",
    "def say_hello(num1:int)->None:\n",
    "    print(num1)\n",
    "\n",
    "say_hello(100)"
   ]
  },
  {
   "cell_type": "code",
   "execution_count": 44,
   "metadata": {},
   "outputs": [
    {
     "name": "stdout",
     "output_type": "stream",
     "text": [
      "The factorial of 5 is 120\n"
     ]
    }
   ],
   "source": [
    "# Recursive function\n",
    "def factorial(x:int) -> int:\n",
    "    \"\"\"\n",
    "    This is recursive function to find the factorial of an integer\n",
    "    \"\"\"\n",
    "    if x == 1:\n",
    "        return 1\n",
    "    else:\n",
    "        return (x * factorial(x-1))\n",
    "    \n",
    "num = 5\n",
    "print(\"The factorial of\", num, \"is\", factorial(num))"
   ]
  }
 ],
 "metadata": {
  "kernelspec": {
   "display_name": "python12",
   "language": "python",
   "name": "python3"
  },
  "language_info": {
   "codemirror_mode": {
    "name": "ipython",
    "version": 3
   },
   "file_extension": ".py",
   "mimetype": "text/x-python",
   "name": "python",
   "nbconvert_exporter": "python",
   "pygments_lexer": "ipython3",
   "version": "3.12.0"
  }
 },
 "nbformat": 4,
 "nbformat_minor": 2
}
