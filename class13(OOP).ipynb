{
 "cells": [
  {
   "cell_type": "markdown",
   "metadata": {},
   "source": [
    "# OOP Object Oriented Programming\n",
    "\n",
    "* Class\n",
    "    *   methods\n",
    "            * FIRST argument must be variable (self, this, or any thing else)\n",
    "    *   attributes\n",
    "                * connects with individual object\n",
    "    *   class variables\n",
    "    *   constructor \n",
    "            ``` def __init__(self, ar1, ar2)```\n",
    "    *   class variables\n",
    "                * this value use for all objects\n",
    "                *       `ClassName.class_variable`\n",
    "\n",
    "class ClassName()\"\n",
    "        class_variable1 = type - Value\n",
    "## Syntax of class\n",
    "```    \n",
    "   class ClassName():\n",
    "        pass\n",
    "```             \n"
   ]
  },
  {
   "cell_type": "markdown",
   "metadata": {},
   "source": [
    "    ## Syntax of class\n",
    "    \n",
    "    class ClassName():\n",
    "        pass\n",
    "        \n"
   ]
  },
  {
   "cell_type": "code",
   "execution_count": 2,
   "metadata": {},
   "outputs": [],
   "source": [
    "class Teacher():\n",
    "    def __init__(self, teacher_id: int, teacher_name: str) -> None: # method, this method / constructor when its with __init\n",
    "        self.name : str = teacher_name\n",
    "        self.teacher_id = teacher_id\n",
    "        self.organization_name = \"PIAIC\"\n",
    "\n",
    "    def speak(self, words: str)-> None: # method # it can also runs with this, instead of self\n",
    "        print(f\"{self.name} is speaking {words}\")\n",
    "\n",
    "    def teaching(self, subject: str)-> None: # method\n",
    "        print(f\"{self.name} is teaching {subject}\")\n"
   ]
  },
  {
   "cell_type": "code",
   "execution_count": 3,
   "metadata": {},
   "outputs": [],
   "source": [
    "obj1 : Teacher = Teacher(1, \"Sir Zia Khan\")\n",
    "obj2 : Teacher = Teacher(2, \"Sir Muhammad Qasim\")\n"
   ]
  },
  {
   "cell_type": "code",
   "execution_count": 6,
   "metadata": {},
   "outputs": [
    {
     "data": {
      "text/plain": [
       "['__class__',\n",
       " '__delattr__',\n",
       " '__dict__',\n",
       " '__dir__',\n",
       " '__doc__',\n",
       " '__eq__',\n",
       " '__format__',\n",
       " '__ge__',\n",
       " '__getattribute__',\n",
       " '__getstate__',\n",
       " '__gt__',\n",
       " '__hash__',\n",
       " '__init__',\n",
       " '__init_subclass__',\n",
       " '__le__',\n",
       " '__lt__',\n",
       " '__module__',\n",
       " '__ne__',\n",
       " '__new__',\n",
       " '__reduce__',\n",
       " '__reduce_ex__',\n",
       " '__repr__',\n",
       " '__setattr__',\n",
       " '__sizeof__',\n",
       " '__str__',\n",
       " '__subclasshook__',\n",
       " '__weakref__',\n",
       " 'name',\n",
       " 'organization_name',\n",
       " 'speak',\n",
       " 'teacher_id',\n",
       " 'teaching']"
      ]
     },
     "execution_count": 6,
     "metadata": {},
     "output_type": "execute_result"
    }
   ],
   "source": [
    "dir(obj1)"
   ]
  },
  {
   "cell_type": "code",
   "execution_count": 10,
   "metadata": {},
   "outputs": [
    {
     "name": "stdout",
     "output_type": "stream",
     "text": [
      "Sir Zia Khan\n",
      "1\n",
      "PIAIC\n",
      "Sir Muhammad Qasim\n",
      "2\n",
      "PIAIC\n"
     ]
    }
   ],
   "source": [
    "print(obj1.name)\n",
    "print(obj1.teacher_id)\n",
    "print(obj1.organization_name)\n",
    "\n",
    "\n",
    "print(obj2.name)\n",
    "print(obj2.teacher_id)\n",
    "print(obj1.organization_name)\n"
   ]
  },
  {
   "cell_type": "code",
   "execution_count": 11,
   "metadata": {},
   "outputs": [
    {
     "name": "stdout",
     "output_type": "stream",
     "text": [
      "Sir Zia Khan is teaching Generative AI\n",
      "Sir Muhammad Qasim is teaching Deep Learning\n"
     ]
    }
   ],
   "source": [
    "obj1.teaching(\"Generative AI\")\n",
    "\n",
    "obj2.teaching(\"Deep Learning\")"
   ]
  },
  {
   "cell_type": "code",
   "execution_count": null,
   "metadata": {},
   "outputs": [],
   "source": [
    "# class variable\n",
    "\n",
    "* Class Variable\n",
    "* this value use for all objects\n",
    "    * `ClassName.class_variable`\n",
    "    * `object_name.class_variable`\n",
    "\n",
    "```\n",
    "class ClassName():\n",
    "    class_variable1 : type = Value\n",
    "  \n",
    "```\n",
    "\n",
    "\n"
   ]
  },
  {
   "cell_type": "code",
   "execution_count": 34,
   "metadata": {},
   "outputs": [
    {
     "name": "stdout",
     "output_type": "stream",
     "text": [
      "2 2\n"
     ]
    }
   ],
   "source": [
    "class Teacher():\n",
    "    counter : int = 0 # class variable1\n",
    "    help_line_number : str = \"03047887003\" #class variable2\n",
    "\n",
    "    def __init__(self, teacher_id : int, teacher_name : str) -> None: # method, this method / constructor when its with __init\n",
    "        self.name : str = teacher_name # self.attributename = value\n",
    "        self.teacher_id : int = teacher_id\n",
    "        self.organization_name : str = \"PIAIC\"\n",
    "        Teacher.counter += 1\n",
    "\n",
    "    def speak(self, words : str)-> None: # method # it can also runs with this, instead of self\n",
    "        print(f\"{self.name} is speaking {words}\")\n",
    "\n",
    "    def teaching(self, subject : str)-> None: # method\n",
    "        print(f\"{self.name} is teaching {subject}...!!\")\n",
    "\n",
    "    def details(self)->None:\n",
    "        information : str = f\"\"\" Teacher name is {self.name}\n",
    "        our help line number is {self.help_line_number}\"\"\"\n",
    "\n",
    "        print(information)\n",
    "\n",
    "obj1 : Teacher = Teacher(1, \"Sir Zia Khan\")\n",
    "obj2 : Teacher = Teacher(2, \"Sir Muhammad Qasim\")\n",
    "\n",
    "print(Teacher.counter, obj1.counter)\n"
   ]
  },
  {
   "cell_type": "code",
   "execution_count": 32,
   "metadata": {},
   "outputs": [
    {
     "name": "stdout",
     "output_type": "stream",
     "text": [
      "2\n",
      "2\n",
      "2\n",
      "03047887003\n",
      "03047887003\n"
     ]
    }
   ],
   "source": [
    "print(obj1.counter)\n",
    "print(obj2.counter)\n",
    "print(Teacher.counter)\n",
    "\n",
    "print(obj1.help_line_number)\n",
    "print(obj2.help_line_number)\n",
    "\n"
   ]
  },
  {
   "cell_type": "markdown",
   "metadata": {},
   "source": [
    "\n",
    "## 1 . Encapsulation:\n",
    " This principle states that all data (attributes) and methods (functions or procedures) are bundled into a single unit called an object. Encapsulation helps in hiding the internal state of an object from the outside. This is also known as data hiding.\n",
    "\n",
    "## 2 .Abstraction:\n",
    " Abstraction means hiding the complex reality while exposing only the necessary parts. It is a process of hiding the implementation details from the user, only the functionality will be provided to the user. In other words, the user will have the information on what the object does instead of how it does it.\n",
    "\n",
    "## 3 .Inheritance:\n",
    " This is a mechanism wherein a new class is derived from an existing class. The new class, known as a derived class or child class, inherits attributes and methods of the existing class, known as a base class or parent class. This helps in reusability of code.\n",
    "\n",
    "## 4 .Polymorphism:\n",
    " Polymorphism allows methods to do different things based on the object it is acting upon. In simple terms, it allows objects of different classes to be treated as objects of a common super class. There are two types of polymorphism: compile-time (or static), achieved by method overloading, and runtime (or dynamic), achieved by method overriding.\n",
    "\n",
    "\n"
   ]
  },
  {
   "cell_type": "markdown",
   "metadata": {},
   "source": [
    "## 1. Inheritance\n",
    "\n",
    "```\n",
    "class ChildClass(ParentClass):\n",
    "    pass\n",
    "```"
   ]
  },
  {
   "cell_type": "code",
   "execution_count": 44,
   "metadata": {},
   "outputs": [
    {
     "name": "stdout",
     "output_type": "stream",
     "text": [
      "Brown\n",
      "Black\n",
      "Parent method speaks: Pakistan Zindabad\n",
      "You are looking: TV\n",
      "================CHILD OBJECT2================\n",
      "Parent method speaks: J SIA RAAM\n",
      "You are looking: Cinema\n",
      "Brown\n",
      "Black\n"
     ]
    }
   ],
   "source": [
    "class Parents():\n",
    "    def __init__(self)->None:\n",
    "        self.eye_color : str = \"Brown\"\n",
    "        self.hair_color : str = \"Black\"\n",
    "\n",
    "    def speak(self, words: str)->None:\n",
    "        print(f\"Parent method speaks: {words}\")\n",
    "\n",
    "    def watching(self, object_name : str)->None:\n",
    "        print(f\"You are looking: {object_name}\")\n",
    "\n",
    "## Inheritance method\n",
    "class Child(Parents):\n",
    "    pass\n",
    "\n",
    "\n",
    "obj1 = Parents = Parents()\n",
    "print(obj1.eye_color)\n",
    "print(obj1.hair_color)\n",
    "obj1.speak(\"Pakistan Zindabad\")\n",
    "obj1.watching(\"TV\")\n",
    "\n",
    "print(\"================CHILD OBJECT2================\")\n",
    "### child object\n",
    "\n",
    "obj2 = Child = Child()\n",
    "obj2.speak(\"J SIA RAAM\")\n",
    "obj2.watching(\"Cinema\")\n",
    "print(obj2.eye_color)\n",
    "print(obj2.hair_color)\n",
    "\n",
    "\n"
   ]
  },
  {
   "cell_type": "code",
   "execution_count": 45,
   "metadata": {},
   "outputs": [
    {
     "name": "stdout",
     "output_type": "stream",
     "text": [
      "Brown\n",
      "Black\n",
      "Parent method speaks: Pakistan Zindabad\n",
      "You are looking: TV\n",
      "================CHILD OBJECT2================\n",
      "Parent method speaks: J SIA RAAM\n",
      "You are looking: Cinema\n",
      "Brown\n",
      "Black\n",
      "Children method for teaching: Generative AI\n"
     ]
    }
   ],
   "source": [
    "class Parents():\n",
    "    def __init__(self)->None:\n",
    "        self.eye_color : str = \"Brown\"\n",
    "        self.hair_color : str = \"Black\"\n",
    "\n",
    "    def speak(self, words: str)->None:\n",
    "        print(f\"Parent method speaks: {words}\")\n",
    "\n",
    "    def watching(self, object_name : str)->None:\n",
    "        print(f\"You are looking: {object_name}\")\n",
    "\n",
    "## Inheritance method\n",
    "# class Child(Parents):\n",
    "#     pass\n",
    "\n",
    "## this is additional method\n",
    "class Child(Parents):\n",
    "    def teaching(self, subject : str = None)-> None:\n",
    "        print(f\"Children method for teaching: {subject}\")\n",
    "\n",
    "\n",
    "\n",
    "\n",
    "obj1 = Parents = Parents()\n",
    "print(obj1.eye_color)\n",
    "print(obj1.hair_color)\n",
    "obj1.speak(\"Pakistan Zindabad\")\n",
    "obj1.watching(\"TV\")\n",
    "\n",
    "print(\"================CHILD OBJECT2================\")\n",
    "### child object\n",
    "\n",
    "obj2 = Child = Child()\n",
    "obj2.speak(\"J SIA RAAM\")\n",
    "obj2.watching(\"Cinema\")\n",
    "print(obj2.eye_color)\n",
    "print(obj2.hair_color)\n",
    "obj2.teaching(\"Generative AI\")\n",
    "\n",
    "\n"
   ]
  },
  {
   "cell_type": "code",
   "execution_count": 50,
   "metadata": {},
   "outputs": [
    {
     "name": "stdout",
     "output_type": "stream",
     "text": [
      "Animation Artist\n",
      "['Python']\n"
     ]
    }
   ],
   "source": [
    "from typing import List\n",
    "\n",
    "class Employee():\n",
    "    def __init__(self, name:str)->None:\n",
    "        self.name : str = name\n",
    "        self.education : str = \"\"\n",
    "        self.department : str = \"\"\n",
    "\n",
    "class Designer(Employee):\n",
    "    def __init__(self, title: str, name:str)->None:\n",
    "        super().__init__(name)\n",
    "        self.title : str = title\n",
    "        \n",
    "\n",
    "class Developer(Employee):\n",
    "    def __init__(self, title: str, name: str)->None:\n",
    "        super().__init__(name)\n",
    "        self.title : str = title\n",
    "        self.programming_skills : list[str] = [\"Python\"]\n",
    "\n",
    "designe1 : Designer = Designer(\"Animation Artist\", \"Asif Khan\")\n",
    "\n",
    "dev1 : Developer = Developer(\"Gen AI Engineer\",\"Raghunathji\")\n",
    "    \n",
    "print(designe1.title)\n",
    "print(dev1.programming_skills)"
   ]
  }
 ],
 "metadata": {
  "kernelspec": {
   "display_name": "python12",
   "language": "python",
   "name": "python3"
  },
  "language_info": {
   "codemirror_mode": {
    "name": "ipython",
    "version": 3
   },
   "file_extension": ".py",
   "mimetype": "text/x-python",
   "name": "python",
   "nbconvert_exporter": "python",
   "pygments_lexer": "ipython3",
   "version": "3.12.0"
  }
 },
 "nbformat": 4,
 "nbformat_minor": 2
}
