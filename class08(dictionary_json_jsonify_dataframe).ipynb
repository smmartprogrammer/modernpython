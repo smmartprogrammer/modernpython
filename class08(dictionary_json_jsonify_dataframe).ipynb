{
 "cells": [
  {
   "cell_type": "code",
   "execution_count": 1,
   "metadata": {},
   "outputs": [
    {
     "name": "stdout",
     "output_type": "stream",
     "text": [
      "before {'fname': 'Laljee Chhagan', 'name': 'Partab Raja', 'education': 'EMBA'}\n",
      "after {}\n",
      "['clear', 'copy', 'fromkeys', 'get', 'items', 'keys', 'pop', 'popitem', 'setdefault', 'update', 'values']\n"
     ]
    }
   ],
   "source": [
    "# clear method\n",
    "from typing import Dict, Union, Optional\n",
    "import pprint \n",
    "\n",
    "key = Union[int, str] # create custome type\n",
    "value = Union[str, list, set, dict, tuple, int]\n",
    "\n",
    "data :Dict[key,value] = {\n",
    "    \"fname\" : \"Laljee Chhagan\",\n",
    "    \"name\" : \"Partab Raja\",\n",
    "    \"education\" : \"EMBA\"\n",
    "}\n",
    "\n",
    "print(\"before\", data)  \n",
    "data.clear()\n",
    "print(\"after\", data)    \n",
    "\n",
    "\n",
    "methods: list[str] = [m for m in dir(data) if \"__\" not in m]\n",
    "print(methods)"
   ]
  },
  {
   "cell_type": "code",
   "execution_count": 2,
   "metadata": {},
   "outputs": [
    {
     "name": "stdout",
     "output_type": "stream",
     "text": [
      "before {'fname': 'Laljee Chhagan', 'name': 'Partab Raja', 'education': 'EMBA'}\n"
     ]
    },
    {
     "ename": "NameError",
     "evalue": "name 'data' is not defined",
     "output_type": "error",
     "traceback": [
      "\u001b[1;31m---------------------------------------------------------------------------\u001b[0m",
      "\u001b[1;31mNameError\u001b[0m                                 Traceback (most recent call last)",
      "Cell \u001b[1;32mIn[2], line 16\u001b[0m\n\u001b[0;32m     14\u001b[0m \u001b[38;5;28mprint\u001b[39m(\u001b[38;5;124m\"\u001b[39m\u001b[38;5;124mbefore\u001b[39m\u001b[38;5;124m\"\u001b[39m, data)  \n\u001b[0;32m     15\u001b[0m \u001b[38;5;28;01mdel\u001b[39;00m data\n\u001b[1;32m---> 16\u001b[0m \u001b[38;5;28mprint\u001b[39m(\u001b[38;5;124m\"\u001b[39m\u001b[38;5;124mafter\u001b[39m\u001b[38;5;124m\"\u001b[39m, \u001b[43mdata\u001b[49m)    \n\u001b[0;32m     19\u001b[0m methods: \u001b[38;5;28mlist\u001b[39m[\u001b[38;5;28mstr\u001b[39m] \u001b[38;5;241m=\u001b[39m [m \u001b[38;5;28;01mfor\u001b[39;00m m \u001b[38;5;129;01min\u001b[39;00m \u001b[38;5;28mdir\u001b[39m(data) \u001b[38;5;28;01mif\u001b[39;00m \u001b[38;5;124m\"\u001b[39m\u001b[38;5;124m__\u001b[39m\u001b[38;5;124m\"\u001b[39m \u001b[38;5;129;01mnot\u001b[39;00m \u001b[38;5;129;01min\u001b[39;00m m]\n\u001b[0;32m     20\u001b[0m \u001b[38;5;28mprint\u001b[39m(methods)\n",
      "\u001b[1;31mNameError\u001b[0m: name 'data' is not defined"
     ]
    }
   ],
   "source": [
    "# del method\n",
    "from typing import Dict, Union, Optional\n",
    "import pprint \n",
    "\n",
    "key = Union[int, str] # create custome type\n",
    "value = Union[str, list, set, dict, tuple, int]\n",
    "\n",
    "data :Dict[key,value] = {\n",
    "    \"fname\" : \"Laljee Chhagan\",\n",
    "    \"name\" : \"Partab Raja\",\n",
    "    \"education\" : \"EMBA\"\n",
    "}\n",
    "\n",
    "print(\"before\", data)  \n",
    "del data\n",
    "print(\"after\", data)    \n",
    "\n",
    "\n",
    "methods: list[str] = [m for m in dir(data) if \"__\" not in m]\n",
    "print(methods)"
   ]
  },
  {
   "cell_type": "code",
   "execution_count": 3,
   "metadata": {},
   "outputs": [
    {
     "name": "stdout",
     "output_type": "stream",
     "text": [
      "before {'fname': 'Laljee Chhagan', 'name': 'Partab Raja', 'education': 'EMBA'}\n",
      "EMBA\n",
      "after {'fname': 'Laljee Chhagan', 'name': 'Partab Raja'}\n",
      "['clear', 'copy', 'fromkeys', 'get', 'items', 'keys', 'pop', 'popitem', 'setdefault', 'update', 'values']\n"
     ]
    }
   ],
   "source": [
    "# pop method\n",
    "from typing import Dict, Union, Optional\n",
    "import pprint \n",
    "\n",
    "key = Union[int, str] # create custome type\n",
    "value = Union[str, list, set, dict, tuple, int]\n",
    "\n",
    "data :Dict[key,value] = {\n",
    "    \"fname\" : \"Laljee Chhagan\",\n",
    "    \"name\" : \"Partab Raja\",\n",
    "    \"education\" : \"EMBA\"\n",
    "}\n",
    "\n",
    "print(\"before\", data)  \n",
    "a: str = data.pop(\"education\")\n",
    "print(a)\n",
    "print(\"after\", data)    \n",
    "\n",
    "methods: list[str] = [m for m in dir(data) if \"__\" not in m]\n",
    "print(methods)"
   ]
  },
  {
   "cell_type": "code",
   "execution_count": 4,
   "metadata": {},
   "outputs": [
    {
     "name": "stdout",
     "output_type": "stream",
     "text": [
      "before {'fname': 'Laljee Chhagan', 'name': 'Partab Raja', 'education': 'EMBA'}\n",
      "NA\n",
      "after {'fname': 'Laljee Chhagan', 'name': 'Partab Raja', 'education': 'EMBA'}\n",
      "['clear', 'copy', 'fromkeys', 'get', 'items', 'keys', 'pop', 'popitem', 'setdefault', 'update', 'values']\n"
     ]
    }
   ],
   "source": [
    "# get method\n",
    "from typing import Dict, Union, Optional\n",
    "import pprint \n",
    "\n",
    "key = Union[int, str] # create custome type\n",
    "value = Union[str, list, set, dict, tuple, int]\n",
    "\n",
    "data :Dict[key,value] = {\n",
    "    \"fname\" : \"Laljee Chhagan\",\n",
    "    \"name\" : \"Partab Raja\",\n",
    "    \"education\" : \"EMBA\"\n",
    "}\n",
    "\n",
    "print(\"before\", data)  \n",
    "a: str = data.get(\"Pakistan\",\"NA\")\n",
    "print(a)\n",
    "print(\"after\", data)    \n",
    "\n",
    "methods: list[str] = [m for m in dir(data) if \"__\" not in m]\n",
    "print(methods)"
   ]
  },
  {
   "cell_type": "code",
   "execution_count": 5,
   "metadata": {},
   "outputs": [
    {
     "name": "stdout",
     "output_type": "stream",
     "text": [
      "before {'fname': 'Laljee Chhagan', 'name': 'Partab Raja', 'education': 'EMBA'}\n",
      "maatru bhumi\n",
      "after {'fname': 'Laljee Chhagan', 'name': 'Partab Raja', 'education': 'EMBA', 'Pakistan': 'maatru bhumi'}\n",
      "['clear', 'copy', 'fromkeys', 'get', 'items', 'keys', 'pop', 'popitem', 'setdefault', 'update', 'values']\n"
     ]
    }
   ],
   "source": [
    "# setdefault method\n",
    "from typing import Dict, Union, Optional\n",
    "import pprint \n",
    "\n",
    "key = Union[int, str] # create custome type\n",
    "value = Union[str, list, set, dict, tuple, int]\n",
    "\n",
    "data :Dict[key,value] = {\n",
    "    \"fname\" : \"Laljee Chhagan\",\n",
    "    \"name\" : \"Partab Raja\",\n",
    "    \"education\" : \"EMBA\"\n",
    "}\n",
    "\n",
    "print(\"before\", data)  \n",
    "a: str = data.setdefault(\"Pakistan\", \"maatru bhumi\")\n",
    "print(a)\n",
    "print(\"after\", data)    \n",
    "\n",
    "methods: list[str] = [m for m in dir(data) if \"__\" not in m]\n",
    "print(methods)"
   ]
  },
  {
   "cell_type": "code",
   "execution_count": 6,
   "metadata": {},
   "outputs": [
    {
     "name": "stdout",
     "output_type": "stream",
     "text": [
      "before {'fname': 'Laljee Chhagan', 'name': 'Partab Raja', 'education': 'EMBA'}\n",
      "maatru bhumi\n",
      "after {'fname': 'Laljee Chhagan', 'name': 'Partab Raja', 'education': 'EMBA', 'Pakistan': 'maatru bhumi'}\n",
      "['clear', 'copy', 'fromkeys', 'get', 'items', 'keys', 'pop', 'popitem', 'setdefault', 'update', 'values']\n"
     ]
    }
   ],
   "source": [
    "# update method\n",
    "from typing import Dict, Union, Optional\n",
    "import pprint \n",
    "\n",
    "key = Union[int, str] # create custome type\n",
    "value = Union[str, list, set, dict, tuple, int]\n",
    "\n",
    "data :Dict[key,value] = {\n",
    "    \"fname\" : \"Laljee Chhagan\",\n",
    "    \"name\" : \"Partab Raja\",\n",
    "    \"education\" : \"EMBA\"\n",
    "}\n",
    "\n",
    "print(\"before\", data)  \n",
    "a: str = data.setdefault(\"Pakistan\", \"maatru bhumi\")\n",
    "print(a)\n",
    "\n",
    "print(\"after\", data)    \n",
    "\n",
    "methods: list[str] = [m for m in dir(data) if \"__\" not in m]\n",
    "print(methods)"
   ]
  },
  {
   "cell_type": "code",
   "execution_count": 7,
   "metadata": {},
   "outputs": [
    {
     "data": {
      "text/plain": [
       "{'fname': 'Laljee Chhagan',\n",
       " 'name': 'Partab',\n",
       " 'education': 'EMBA',\n",
       " 'age': 38,\n",
       " 'height': '5.6 feet'}"
      ]
     },
     "execution_count": 7,
     "metadata": {},
     "output_type": "execute_result"
    }
   ],
   "source": [
    "key = Union[int, str] # create custome type\n",
    "value = Union[str, list, set, dict, tuple, int]\n",
    "\n",
    "data :Dict[key,value] = {\n",
    "    \"fname\" : \"Laljee Chhagan\",\n",
    "    \"name\" : \"Partab Raja\",\n",
    "    \"education\" : \"EMBA\"\n",
    "}\n",
    "\n",
    "data1 : Dict[key,value] = {\"name\":\"Partab\",\"age\":38, \"height\":\"5.6 feet\" }\n",
    "    \n",
    "data.update(data1)\n",
    "data\n"
   ]
  },
  {
   "cell_type": "code",
   "execution_count": 8,
   "metadata": {},
   "outputs": [
    {
     "name": "stderr",
     "output_type": "stream",
     "text": [
      "C:\\Users\\parta\\AppData\\Local\\Temp\\ipykernel_5668\\735847116.py:1: DeprecationWarning: \n",
      "Pyarrow will become a required dependency of pandas in the next major release of pandas (pandas 3.0),\n",
      "(to allow more performant data types, such as the Arrow string type, and better interoperability with other libraries)\n",
      "but was not found to be installed on your system.\n",
      "If this would cause problems for you,\n",
      "please provide us feedback at https://github.com/pandas-dev/pandas/issues/54466\n",
      "        \n",
      "  import pandas as pd\n"
     ]
    },
    {
     "data": {
      "text/html": [
       "<div>\n",
       "<style scoped>\n",
       "    .dataframe tbody tr th:only-of-type {\n",
       "        vertical-align: middle;\n",
       "    }\n",
       "\n",
       "    .dataframe tbody tr th {\n",
       "        vertical-align: top;\n",
       "    }\n",
       "\n",
       "    .dataframe thead th {\n",
       "        text-align: right;\n",
       "    }\n",
       "</style>\n",
       "<table border=\"1\" class=\"dataframe\">\n",
       "  <thead>\n",
       "    <tr style=\"text-align: right;\">\n",
       "      <th></th>\n",
       "      <th>roll no</th>\n",
       "      <th>Name</th>\n",
       "      <th>Education</th>\n",
       "    </tr>\n",
       "  </thead>\n",
       "  <tbody>\n",
       "    <tr>\n",
       "      <th>0</th>\n",
       "      <td>1</td>\n",
       "      <td>Sir Zia</td>\n",
       "      <td>Master</td>\n",
       "    </tr>\n",
       "    <tr>\n",
       "      <th>1</th>\n",
       "      <td>2</td>\n",
       "      <td>Sir Inam</td>\n",
       "      <td>Master</td>\n",
       "    </tr>\n",
       "    <tr>\n",
       "      <th>2</th>\n",
       "      <td>3</td>\n",
       "      <td>Muhammad Qasim</td>\n",
       "      <td>Master</td>\n",
       "    </tr>\n",
       "  </tbody>\n",
       "</table>\n",
       "</div>"
      ],
      "text/plain": [
       "   roll no            Name Education\n",
       "0        1         Sir Zia    Master\n",
       "1        2        Sir Inam    Master\n",
       "2        3  Muhammad Qasim    Master"
      ]
     },
     "execution_count": 8,
     "metadata": {},
     "output_type": "execute_result"
    }
   ],
   "source": [
    "import pandas as pd\n",
    "from typing import Any\n",
    "\n",
    "students_data : Dict[str, list[Any]] = {\n",
    "    \"roll no\": [1,2,3],\n",
    "    \"Name\" : [\"Sir Zia\", \"Sir Inam\", \"Muhammad Qasim\"],\n",
    "    \"Education\" : [\"Master\", \"Master\", \"Master\"]\n",
    "}\n",
    "    \n",
    "df : pd.DataFrame = pd.DataFrame(students_data)\n",
    "df"
   ]
  },
  {
   "cell_type": "code",
   "execution_count": null,
   "metadata": {},
   "outputs": [],
   "source": []
  }
 ],
 "metadata": {
  "kernelspec": {
   "display_name": "Python 3 (ipykernel)",
   "language": "python",
   "name": "python3"
  },
  "language_info": {
   "codemirror_mode": {
    "name": "ipython",
    "version": 3
   },
   "file_extension": ".py",
   "mimetype": "text/x-python",
   "name": "python",
   "nbconvert_exporter": "python",
   "pygments_lexer": "ipython3",
   "version": "3.12.0"
  }
 },
 "nbformat": 4,
 "nbformat_minor": 2
}
